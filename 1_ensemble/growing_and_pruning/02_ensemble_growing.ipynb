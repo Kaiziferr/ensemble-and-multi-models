{
  "nbformat": 4,
  "nbformat_minor": 0,
  "metadata": {
    "colab": {
      "provenance": []
    },
    "kernelspec": {
      "name": "python3",
      "display_name": "Python 3"
    },
    "language_info": {
      "name": "python"
    }
  },
  "cells": [
    {
      "cell_type": "code",
      "execution_count": 1,
      "metadata": {
        "id": "2BUHPzvnHXAQ"
      },
      "outputs": [],
      "source": [
        "import warnings\n",
        "\n",
        "import pandas as pd\n",
        "from numpy import (\n",
        "    mean, std\n",
        ")\n",
        "\n",
        "import seaborn as sns\n",
        "import matplotlib.pyplot as plt\n",
        "from matplotlib.colors import ListedColormap\n",
        "\n",
        "from sklearn.model_selection import (\n",
        "    train_test_split,\n",
        "    RepeatedStratifiedKFold,\n",
        "    cross_val_score\n",
        ")\n",
        "\n",
        "from sklearn.preprocessing import StandardScaler\n",
        "\n",
        "from sklearn.linear_model import LogisticRegression\n",
        "from sklearn.tree import DecisionTreeClassifier\n",
        "from sklearn.neighbors import KNeighborsClassifier\n",
        "from sklearn.naive_bayes import GaussianNB\n",
        "from sklearn.svm import SVC\n",
        "\n",
        "from sklearn.ensemble import VotingClassifier"
      ]
    },
    {
      "cell_type": "markdown",
      "source": [
        "# **Info**\n",
        "---\n",
        "**@By:** Kaiziferr\n",
        "\n",
        "**@Git:** https://github.com/Kaiziferr"
      ],
      "metadata": {
        "id": "4lOocqN7MHTH"
      }
    },
    {
      "cell_type": "markdown",
      "source": [
        "# **Utils**\n",
        "---"
      ],
      "metadata": {
        "id": "VKOHMUBuMMNW"
      }
    },
    {
      "cell_type": "code",
      "source": [
        "def generate_colors(paleta:str=\"Set1\", n_colors:int=15)-> tuple:\n",
        "  \"\"\"color generator\"\"\"\n",
        "  try:\n",
        "    cmap = sns.color_palette(paleta, n_colors).as_hex()\n",
        "    list_camp = ListedColormap(cmap)\n",
        "    return cmap, list_camp\n",
        "  except Exception as e:\n",
        "    print(e)\n",
        "\n",
        "def plot_bar(data:pd.DataFrame, paleta:list=None, figsize_x:int=8, figsize_y:int=5,\n",
        "             fontsize:int=15, **kwards)->None:\n",
        "  \"\"\"Grafica un diagrama de barras con multiples caracteristicas\"\"\"\n",
        "  try:\n",
        "    paleta = paleta if paleta !=None else generate_colors()[0]\n",
        "    v = kwards\n",
        "    ejeX = v[\"ejeX\"]\n",
        "\n",
        "    fig, ax = plt.subplots(figsize = (figsize_x, figsize_y))\n",
        "    fig.suptitle(f'Diagrama de barras {v[\"title\"]}', fontsize=fontsize)\n",
        "\n",
        "    if type(ejeX) == str:\n",
        "      sns.countplot(x=ejeX, data=data, ax = ax, palette=paleta)\n",
        "    else:\n",
        "      ejeX = v['ejeX'][0]\n",
        "      sns.countplot(x=ejeX, hue=v['ejeX'][1], data=data, ax=ax, palette=paleta)\n",
        "\n",
        "    ax.set_ylabel(v['ejey'], size = 12)\n",
        "    ax.set_xlabel(ejeX, size=fontsize-3)\n",
        "\n",
        "    ax.set_xticklabels(ax.get_xticklabels(), fontsize = fontsize-3)\n",
        "    for p in ax.patches:\n",
        "      try:\n",
        "        height = int(p.get_height())\n",
        "        height_text = height\n",
        "        if kwards['p'] == True:\n",
        "          percentage = round(height/data.shape[0], 5)\n",
        "          height_text = f'{height} ({percentage})'\n",
        "        ax.text(p.get_x()+p.get_width()/2., height + 1, height_text, ha=\"center\")\n",
        "      except:\n",
        "        pass\n",
        "\n",
        "  except Exception as e:\n",
        "    print(e)\n"
      ],
      "metadata": {
        "id": "2-3I8qUNMLcQ"
      },
      "execution_count": 2,
      "outputs": []
    },
    {
      "cell_type": "markdown",
      "source": [
        "# **Config**\n",
        "---"
      ],
      "metadata": {
        "id": "J9gYoSk5MS9m"
      }
    },
    {
      "cell_type": "code",
      "source": [
        "random_seed = 12354\n",
        "warnings.filterwarnings('ignore')\n",
        "sns.set(style='darkgrid')\n",
        "title_data = ''\n",
        "palete = sns.color_palette('deep').as_hex()"
      ],
      "metadata": {
        "id": "hmSlvna-MVom"
      },
      "execution_count": 3,
      "outputs": []
    },
    {
      "cell_type": "markdown",
      "source": [
        "# **Data**\n",
        "---"
      ],
      "metadata": {
        "id": "dSDOc0QTMY-9"
      }
    },
    {
      "cell_type": "code",
      "source": [
        "url = 'https://raw.githubusercontent.com/Kaiziferr/datasets/main/cryptojacking.csv'\n",
        "data = pd.read_csv(url, dtype=str).drop('Unnamed: 0', axis=1)"
      ],
      "metadata": {
        "id": "ZEcTrPIaMbtW"
      },
      "execution_count": 4,
      "outputs": []
    },
    {
      "cell_type": "code",
      "source": [
        "data.head(3)"
      ],
      "metadata": {
        "id": "p3ev7cB3MgZe",
        "colab": {
          "base_uri": "https://localhost:8080/",
          "height": 173
        },
        "outputId": "aa700dda-3cda-4e73-d2ef-ebc8c989cbff"
      },
      "execution_count": 5,
      "outputs": [
        {
          "output_type": "execute_result",
          "data": {
            "text/plain": [
              "            Name Netflows First_Protocol Second_Protocol Third_Protocol  \\\n",
              "0  0-csves/0.csv       65            TCP             UDP            NaN   \n",
              "1  0-csves/1.csv       18            UDP             TCP            NaN   \n",
              "2  1-csves/0.csv       10            UDP             NaN            NaN   \n",
              "\n",
              "     p1_d     p2_d     p3_d           duration    max_d  ... first_dp  \\\n",
              "0  18.939  168.173  194.287  7845.125999999999  244.362  ...      443   \n",
              "1     0.0      0.0      0.0              0.086    0.044  ...      443   \n",
              "2     0.0      0.0      0.0                0.0      0.0  ...       53   \n",
              "\n",
              "  second_dp third_dp p1_ip p2_ip p3_ip  p1_ib  p2_ib   p3_ib Type  \n",
              "0      80.0    123.0   3.0   7.0  22.0  127.0  255.0  1888.0    0  \n",
              "1      53.0  53195.0   1.0   1.0   1.0   37.0   47.0    64.0    0  \n",
              "2   39308.0  54454.0   1.0   1.0   1.0   34.0   43.0   61.75    0  \n",
              "\n",
              "[3 rows x 31 columns]"
            ],
            "text/html": [
              "\n",
              "  <div id=\"df-45157a08-ce1c-429f-94b1-a2e302cf3377\" class=\"colab-df-container\">\n",
              "    <div>\n",
              "<style scoped>\n",
              "    .dataframe tbody tr th:only-of-type {\n",
              "        vertical-align: middle;\n",
              "    }\n",
              "\n",
              "    .dataframe tbody tr th {\n",
              "        vertical-align: top;\n",
              "    }\n",
              "\n",
              "    .dataframe thead th {\n",
              "        text-align: right;\n",
              "    }\n",
              "</style>\n",
              "<table border=\"1\" class=\"dataframe\">\n",
              "  <thead>\n",
              "    <tr style=\"text-align: right;\">\n",
              "      <th></th>\n",
              "      <th>Name</th>\n",
              "      <th>Netflows</th>\n",
              "      <th>First_Protocol</th>\n",
              "      <th>Second_Protocol</th>\n",
              "      <th>Third_Protocol</th>\n",
              "      <th>p1_d</th>\n",
              "      <th>p2_d</th>\n",
              "      <th>p3_d</th>\n",
              "      <th>duration</th>\n",
              "      <th>max_d</th>\n",
              "      <th>...</th>\n",
              "      <th>first_dp</th>\n",
              "      <th>second_dp</th>\n",
              "      <th>third_dp</th>\n",
              "      <th>p1_ip</th>\n",
              "      <th>p2_ip</th>\n",
              "      <th>p3_ip</th>\n",
              "      <th>p1_ib</th>\n",
              "      <th>p2_ib</th>\n",
              "      <th>p3_ib</th>\n",
              "      <th>Type</th>\n",
              "    </tr>\n",
              "  </thead>\n",
              "  <tbody>\n",
              "    <tr>\n",
              "      <th>0</th>\n",
              "      <td>0-csves/0.csv</td>\n",
              "      <td>65</td>\n",
              "      <td>TCP</td>\n",
              "      <td>UDP</td>\n",
              "      <td>NaN</td>\n",
              "      <td>18.939</td>\n",
              "      <td>168.173</td>\n",
              "      <td>194.287</td>\n",
              "      <td>7845.125999999999</td>\n",
              "      <td>244.362</td>\n",
              "      <td>...</td>\n",
              "      <td>443</td>\n",
              "      <td>80.0</td>\n",
              "      <td>123.0</td>\n",
              "      <td>3.0</td>\n",
              "      <td>7.0</td>\n",
              "      <td>22.0</td>\n",
              "      <td>127.0</td>\n",
              "      <td>255.0</td>\n",
              "      <td>1888.0</td>\n",
              "      <td>0</td>\n",
              "    </tr>\n",
              "    <tr>\n",
              "      <th>1</th>\n",
              "      <td>0-csves/1.csv</td>\n",
              "      <td>18</td>\n",
              "      <td>UDP</td>\n",
              "      <td>TCP</td>\n",
              "      <td>NaN</td>\n",
              "      <td>0.0</td>\n",
              "      <td>0.0</td>\n",
              "      <td>0.0</td>\n",
              "      <td>0.086</td>\n",
              "      <td>0.044</td>\n",
              "      <td>...</td>\n",
              "      <td>443</td>\n",
              "      <td>53.0</td>\n",
              "      <td>53195.0</td>\n",
              "      <td>1.0</td>\n",
              "      <td>1.0</td>\n",
              "      <td>1.0</td>\n",
              "      <td>37.0</td>\n",
              "      <td>47.0</td>\n",
              "      <td>64.0</td>\n",
              "      <td>0</td>\n",
              "    </tr>\n",
              "    <tr>\n",
              "      <th>2</th>\n",
              "      <td>1-csves/0.csv</td>\n",
              "      <td>10</td>\n",
              "      <td>UDP</td>\n",
              "      <td>NaN</td>\n",
              "      <td>NaN</td>\n",
              "      <td>0.0</td>\n",
              "      <td>0.0</td>\n",
              "      <td>0.0</td>\n",
              "      <td>0.0</td>\n",
              "      <td>0.0</td>\n",
              "      <td>...</td>\n",
              "      <td>53</td>\n",
              "      <td>39308.0</td>\n",
              "      <td>54454.0</td>\n",
              "      <td>1.0</td>\n",
              "      <td>1.0</td>\n",
              "      <td>1.0</td>\n",
              "      <td>34.0</td>\n",
              "      <td>43.0</td>\n",
              "      <td>61.75</td>\n",
              "      <td>0</td>\n",
              "    </tr>\n",
              "  </tbody>\n",
              "</table>\n",
              "<p>3 rows × 31 columns</p>\n",
              "</div>\n",
              "    <div class=\"colab-df-buttons\">\n",
              "\n",
              "  <div class=\"colab-df-container\">\n",
              "    <button class=\"colab-df-convert\" onclick=\"convertToInteractive('df-45157a08-ce1c-429f-94b1-a2e302cf3377')\"\n",
              "            title=\"Convert this dataframe to an interactive table.\"\n",
              "            style=\"display:none;\">\n",
              "\n",
              "  <svg xmlns=\"http://www.w3.org/2000/svg\" height=\"24px\" viewBox=\"0 -960 960 960\">\n",
              "    <path d=\"M120-120v-720h720v720H120Zm60-500h600v-160H180v160Zm220 220h160v-160H400v160Zm0 220h160v-160H400v160ZM180-400h160v-160H180v160Zm440 0h160v-160H620v160ZM180-180h160v-160H180v160Zm440 0h160v-160H620v160Z\"/>\n",
              "  </svg>\n",
              "    </button>\n",
              "\n",
              "  <style>\n",
              "    .colab-df-container {\n",
              "      display:flex;\n",
              "      gap: 12px;\n",
              "    }\n",
              "\n",
              "    .colab-df-convert {\n",
              "      background-color: #E8F0FE;\n",
              "      border: none;\n",
              "      border-radius: 50%;\n",
              "      cursor: pointer;\n",
              "      display: none;\n",
              "      fill: #1967D2;\n",
              "      height: 32px;\n",
              "      padding: 0 0 0 0;\n",
              "      width: 32px;\n",
              "    }\n",
              "\n",
              "    .colab-df-convert:hover {\n",
              "      background-color: #E2EBFA;\n",
              "      box-shadow: 0px 1px 2px rgba(60, 64, 67, 0.3), 0px 1px 3px 1px rgba(60, 64, 67, 0.15);\n",
              "      fill: #174EA6;\n",
              "    }\n",
              "\n",
              "    .colab-df-buttons div {\n",
              "      margin-bottom: 4px;\n",
              "    }\n",
              "\n",
              "    [theme=dark] .colab-df-convert {\n",
              "      background-color: #3B4455;\n",
              "      fill: #D2E3FC;\n",
              "    }\n",
              "\n",
              "    [theme=dark] .colab-df-convert:hover {\n",
              "      background-color: #434B5C;\n",
              "      box-shadow: 0px 1px 3px 1px rgba(0, 0, 0, 0.15);\n",
              "      filter: drop-shadow(0px 1px 2px rgba(0, 0, 0, 0.3));\n",
              "      fill: #FFFFFF;\n",
              "    }\n",
              "  </style>\n",
              "\n",
              "    <script>\n",
              "      const buttonEl =\n",
              "        document.querySelector('#df-45157a08-ce1c-429f-94b1-a2e302cf3377 button.colab-df-convert');\n",
              "      buttonEl.style.display =\n",
              "        google.colab.kernel.accessAllowed ? 'block' : 'none';\n",
              "\n",
              "      async function convertToInteractive(key) {\n",
              "        const element = document.querySelector('#df-45157a08-ce1c-429f-94b1-a2e302cf3377');\n",
              "        const dataTable =\n",
              "          await google.colab.kernel.invokeFunction('convertToInteractive',\n",
              "                                                    [key], {});\n",
              "        if (!dataTable) return;\n",
              "\n",
              "        const docLinkHtml = 'Like what you see? Visit the ' +\n",
              "          '<a target=\"_blank\" href=https://colab.research.google.com/notebooks/data_table.ipynb>data table notebook</a>'\n",
              "          + ' to learn more about interactive tables.';\n",
              "        element.innerHTML = '';\n",
              "        dataTable['output_type'] = 'display_data';\n",
              "        await google.colab.output.renderOutput(dataTable, element);\n",
              "        const docLink = document.createElement('div');\n",
              "        docLink.innerHTML = docLinkHtml;\n",
              "        element.appendChild(docLink);\n",
              "      }\n",
              "    </script>\n",
              "  </div>\n",
              "\n",
              "\n",
              "    <div id=\"df-53455ca9-be67-460b-a095-b09d5e80a615\">\n",
              "      <button class=\"colab-df-quickchart\" onclick=\"quickchart('df-53455ca9-be67-460b-a095-b09d5e80a615')\"\n",
              "                title=\"Suggest charts\"\n",
              "                style=\"display:none;\">\n",
              "\n",
              "<svg xmlns=\"http://www.w3.org/2000/svg\" height=\"24px\"viewBox=\"0 0 24 24\"\n",
              "     width=\"24px\">\n",
              "    <g>\n",
              "        <path d=\"M19 3H5c-1.1 0-2 .9-2 2v14c0 1.1.9 2 2 2h14c1.1 0 2-.9 2-2V5c0-1.1-.9-2-2-2zM9 17H7v-7h2v7zm4 0h-2V7h2v10zm4 0h-2v-4h2v4z\"/>\n",
              "    </g>\n",
              "</svg>\n",
              "      </button>\n",
              "\n",
              "<style>\n",
              "  .colab-df-quickchart {\n",
              "      --bg-color: #E8F0FE;\n",
              "      --fill-color: #1967D2;\n",
              "      --hover-bg-color: #E2EBFA;\n",
              "      --hover-fill-color: #174EA6;\n",
              "      --disabled-fill-color: #AAA;\n",
              "      --disabled-bg-color: #DDD;\n",
              "  }\n",
              "\n",
              "  [theme=dark] .colab-df-quickchart {\n",
              "      --bg-color: #3B4455;\n",
              "      --fill-color: #D2E3FC;\n",
              "      --hover-bg-color: #434B5C;\n",
              "      --hover-fill-color: #FFFFFF;\n",
              "      --disabled-bg-color: #3B4455;\n",
              "      --disabled-fill-color: #666;\n",
              "  }\n",
              "\n",
              "  .colab-df-quickchart {\n",
              "    background-color: var(--bg-color);\n",
              "    border: none;\n",
              "    border-radius: 50%;\n",
              "    cursor: pointer;\n",
              "    display: none;\n",
              "    fill: var(--fill-color);\n",
              "    height: 32px;\n",
              "    padding: 0;\n",
              "    width: 32px;\n",
              "  }\n",
              "\n",
              "  .colab-df-quickchart:hover {\n",
              "    background-color: var(--hover-bg-color);\n",
              "    box-shadow: 0 1px 2px rgba(60, 64, 67, 0.3), 0 1px 3px 1px rgba(60, 64, 67, 0.15);\n",
              "    fill: var(--button-hover-fill-color);\n",
              "  }\n",
              "\n",
              "  .colab-df-quickchart-complete:disabled,\n",
              "  .colab-df-quickchart-complete:disabled:hover {\n",
              "    background-color: var(--disabled-bg-color);\n",
              "    fill: var(--disabled-fill-color);\n",
              "    box-shadow: none;\n",
              "  }\n",
              "\n",
              "  .colab-df-spinner {\n",
              "    border: 2px solid var(--fill-color);\n",
              "    border-color: transparent;\n",
              "    border-bottom-color: var(--fill-color);\n",
              "    animation:\n",
              "      spin 1s steps(1) infinite;\n",
              "  }\n",
              "\n",
              "  @keyframes spin {\n",
              "    0% {\n",
              "      border-color: transparent;\n",
              "      border-bottom-color: var(--fill-color);\n",
              "      border-left-color: var(--fill-color);\n",
              "    }\n",
              "    20% {\n",
              "      border-color: transparent;\n",
              "      border-left-color: var(--fill-color);\n",
              "      border-top-color: var(--fill-color);\n",
              "    }\n",
              "    30% {\n",
              "      border-color: transparent;\n",
              "      border-left-color: var(--fill-color);\n",
              "      border-top-color: var(--fill-color);\n",
              "      border-right-color: var(--fill-color);\n",
              "    }\n",
              "    40% {\n",
              "      border-color: transparent;\n",
              "      border-right-color: var(--fill-color);\n",
              "      border-top-color: var(--fill-color);\n",
              "    }\n",
              "    60% {\n",
              "      border-color: transparent;\n",
              "      border-right-color: var(--fill-color);\n",
              "    }\n",
              "    80% {\n",
              "      border-color: transparent;\n",
              "      border-right-color: var(--fill-color);\n",
              "      border-bottom-color: var(--fill-color);\n",
              "    }\n",
              "    90% {\n",
              "      border-color: transparent;\n",
              "      border-bottom-color: var(--fill-color);\n",
              "    }\n",
              "  }\n",
              "</style>\n",
              "\n",
              "      <script>\n",
              "        async function quickchart(key) {\n",
              "          const quickchartButtonEl =\n",
              "            document.querySelector('#' + key + ' button');\n",
              "          quickchartButtonEl.disabled = true;  // To prevent multiple clicks.\n",
              "          quickchartButtonEl.classList.add('colab-df-spinner');\n",
              "          try {\n",
              "            const charts = await google.colab.kernel.invokeFunction(\n",
              "                'suggestCharts', [key], {});\n",
              "          } catch (error) {\n",
              "            console.error('Error during call to suggestCharts:', error);\n",
              "          }\n",
              "          quickchartButtonEl.classList.remove('colab-df-spinner');\n",
              "          quickchartButtonEl.classList.add('colab-df-quickchart-complete');\n",
              "        }\n",
              "        (() => {\n",
              "          let quickchartButtonEl =\n",
              "            document.querySelector('#df-53455ca9-be67-460b-a095-b09d5e80a615 button');\n",
              "          quickchartButtonEl.style.display =\n",
              "            google.colab.kernel.accessAllowed ? 'block' : 'none';\n",
              "        })();\n",
              "      </script>\n",
              "    </div>\n",
              "\n",
              "    </div>\n",
              "  </div>\n"
            ],
            "application/vnd.google.colaboratory.intrinsic+json": {
              "type": "dataframe",
              "variable_name": "data"
            }
          },
          "metadata": {},
          "execution_count": 5
        }
      ]
    },
    {
      "cell_type": "markdown",
      "source": [
        "The data types of the columns are updated\n",
        "\n"
      ],
      "metadata": {
        "id": "wfmmx4txMkLG"
      }
    },
    {
      "cell_type": "code",
      "source": [
        "data[[\n",
        "    'p1_d', 'p2_d', 'p3_d',\n",
        "    'duration', 'max_d', 'min_d',\n",
        "    'Avg_bps', 'Avg_pps','Avg_bpp',\n",
        "    'p1_ip', 'p2_ip', 'p3_ip',\n",
        "    'p1_ib', 'p2_ib','p3_ib']] = data[[\n",
        "    'p1_d', 'p2_d', 'p3_d',\n",
        "    'duration', 'max_d', 'min_d',\n",
        "    'Avg_bps', 'Avg_pps','Avg_bpp',\n",
        "    'p1_ip', 'p2_ip', 'p3_ip',\n",
        "    'p1_ib', 'p2_ib','p3_ib']].astype('float64')\n",
        "\n",
        "\n",
        "data[[\n",
        "    'Netflows', '#packets',\n",
        "    '#Bytes', '#sp', '#dp']] = data[[\n",
        "    'Netflows', '#packets',\n",
        "    '#Bytes', '#sp', '#dp']].astype('int64')"
      ],
      "metadata": {
        "id": "uYIOpSuTMmee"
      },
      "execution_count": 6,
      "outputs": []
    },
    {
      "cell_type": "markdown",
      "source": [
        "It is evident that there is an imbalance in the traffic data of the different types of cryptocurrencies"
      ],
      "metadata": {
        "id": "jOIN0aoDMn69"
      }
    },
    {
      "cell_type": "code",
      "source": [
        "plot_bar(\n",
        "    data,\n",
        "    paleta=None,\n",
        "    ejeX='Type',\n",
        "    ejey='count Tipo Criptomonedas',\n",
        "    title='Count Tipo Criptomonedas',\n",
        "    p=True)"
      ],
      "metadata": {
        "colab": {
          "base_uri": "https://localhost:8080/",
          "height": 526
        },
        "id": "lCywAtVgMov_",
        "outputId": "4a2f64dd-f316-4fef-eda9-29257c85cc5f"
      },
      "execution_count": 7,
      "outputs": [
        {
          "output_type": "display_data",
          "data": {
            "text/plain": [
              "<Figure size 800x500 with 1 Axes>"
            ],
            "image/png": "[encoded data removed]"
          },
          "metadata": {}
        }
      ]
    },
    {
      "cell_type": "markdown",
      "source": [
        "# **Split**\n",
        "---"
      ],
      "metadata": {
        "id": "FjP_pnzLMsIX"
      }
    },
    {
      "cell_type": "markdown",
      "source": [
        "Based on previous experience with other processes using this dataset, the following features are selected, as they provide relevant information to the models"
      ],
      "metadata": {
        "id": "pFxBy7GFMvNm"
      }
    },
    {
      "cell_type": "code",
      "source": [
        "X = data[['p1_d', 'p2_d', 'min_d', '#packets', 'Avg_bpp', 'p2_ip', 'p3_ip',\n",
        "       'p2_ib']]\n",
        "y = data.iloc[:,-1].astype(int)"
      ],
      "metadata": {
        "id": "HbRanvWlMuAe"
      },
      "execution_count": 8,
      "outputs": []
    },
    {
      "cell_type": "markdown",
      "source": [
        "The entire dataset is standardized to visualize the performance. This is done because the data are real and may have different magnitudes."
      ],
      "metadata": {
        "id": "SIlhrmakM5NH"
      }
    },
    {
      "cell_type": "code",
      "source": [
        "scaler = StandardScaler()\n",
        "X_ = scaler.fit_transform(X)"
      ],
      "metadata": {
        "id": "p--9h3JbM6Cu"
      },
      "execution_count": 9,
      "outputs": []
    },
    {
      "cell_type": "markdown",
      "source": [
        "# **Model**\n",
        "\n",
        "---\n",
        "\n",
        "\n"
      ],
      "metadata": {
        "id": "6lud3gQ5M9Q2"
      }
    },
    {
      "cell_type": "markdown",
      "source": [
        "A function is defined to obtain the conventional models for the ensemble growth and pruning process"
      ],
      "metadata": {
        "id": "OJT1aIKlM_nm"
      }
    },
    {
      "cell_type": "code",
      "source": [
        "def get_models():\n",
        "  models = []\n",
        "  models.append(('lr', LogisticRegression(random_state=random_seed)))\n",
        "  models.append(('knn', KNeighborsClassifier()))\n",
        "  models.append(('Tree', DecisionTreeClassifier(random_state=random_seed)))\n",
        "  models.append(('nb', GaussianNB()))\n",
        "  models.append(('svm', SVC(probability=True, random_state=random_seed)))\n",
        "  return models"
      ],
      "metadata": {
        "id": "l3qXoa6AM-sW"
      },
      "execution_count": 10,
      "outputs": []
    },
    {
      "cell_type": "markdown",
      "source": [
        "Another function is defined that validates the performance of a model or ensemble of models using stratified cross-validation"
      ],
      "metadata": {
        "id": "pNsfi113ND1X"
      }
    },
    {
      "cell_type": "code",
      "source": [
        "def evaluate_model(model, X, y):\n",
        "  cv = RepeatedStratifiedKFold(n_splits=10, n_repeats=3, random_state=random_seed)\n",
        "  scores = cross_val_score(model, X,y, scoring = 'f1_micro', cv=cv, n_jobs=-1)\n",
        "  return scores"
      ],
      "metadata": {
        "id": "GlaudBZdNCnm"
      },
      "execution_count": 11,
      "outputs": []
    },
    {
      "cell_type": "code",
      "source": [
        "models = get_models()\n",
        "\n",
        "results, names = [], []\n",
        "\n",
        "for name, model in models:\n",
        "  scores = evaluate_model(model, X_, y)\n",
        "  results.append(scores)\n",
        "  names.append(name)\n",
        "  print('>%s %.3f (%.3f)' % (name, mean(scores), std(scores)))"
      ],
      "metadata": {
        "colab": {
          "base_uri": "https://localhost:8080/"
        },
        "id": "qGmqATLMNKP4",
        "outputId": "edcad093-a57e-4fb3-c343-6730b7d6ce44"
      },
      "execution_count": 12,
      "outputs": [
        {
          "output_type": "stream",
          "name": "stdout",
          "text": [
            ">lr 0.877 (0.021)\n",
            ">knn 0.946 (0.013)\n",
            ">Tree 0.943 (0.013)\n",
            ">nb 0.697 (0.028)\n",
            ">svm 0.926 (0.016)\n"
          ]
        }
      ]
    },
    {
      "cell_type": "markdown",
      "source": [
        "- KNN (0.95), SVM (0.92) and  and Tree (0.94) are the models with the best average performance. Not only do they have the highest mean scores, but they also demonstrate high stability (low deviation).\n",
        "\n",
        "- LR (0.88) show good performance as well, though slightly lower.\n",
        "\n",
        "- NB (0.7) has a considerably lower average performance and is also the most inconsistent model, showing greater variability across folds."
      ],
      "metadata": {
        "id": "JjJASCLONP13"
      }
    },
    {
      "cell_type": "markdown",
      "source": [
        "A reference set that includes all the models must be defined. This will serve as a basis for comparing the different growth and pruning methods.\n",
        "\n",
        "A voting ensemble with soft voting will be used. This means that each model will predict probabilities, and the ensemble model will sum them to produce a final output prediction for each input sample."
      ],
      "metadata": {
        "id": "WtWxAaDJNaJu"
      }
    },
    {
      "cell_type": "code",
      "source": [
        "ensemble = VotingClassifier(estimators=models, voting='soft')\n",
        "\n",
        "scores = evaluate_model(ensemble, X_, y)\n",
        "print('Mean f1: %.3f (%.3f)' % (mean(scores), std(scores)))"
      ],
      "metadata": {
        "colab": {
          "base_uri": "https://localhost:8080/"
        },
        "id": "DiGtuB_GNOMv",
        "outputId": "8671ee8d-4324-4424-9cbd-117520d2e0cb"
      },
      "execution_count": 13,
      "outputs": [
        {
          "output_type": "stream",
          "name": "stdout",
          "text": [
            "Mean f1: 0.947 (0.012)\n"
          ]
        }
      ]
    },
    {
      "cell_type": "markdown",
      "source": [
        "The ensemble slightly improves the average compared to KNN and Tree, while maintaining a low (consistent) standard deviation"
      ],
      "metadata": {
        "id": "MBh_Y0AONwUW"
      }
    },
    {
      "cell_type": "code",
      "source": [
        "results = results+[scores]\n",
        "names = names+['VotingClassifier']"
      ],
      "metadata": {
        "id": "TkDDzrqYN75F"
      },
      "execution_count": 14,
      "outputs": []
    },
    {
      "cell_type": "code",
      "source": [
        "fig, ax = plt.subplots()\n",
        "ax.boxplot(results, labels=names, showmeans=True)\n",
        "ax.set_title(\"Model performance\")\n",
        "plt.show()"
      ],
      "metadata": {
        "colab": {
          "base_uri": "https://localhost:8080/",
          "height": 457
        },
        "id": "BRcGKFTrN-IO",
        "outputId": "d1f71cfa-cd20-41c0-bb7b-b7b8de9879e7"
      },
      "execution_count": 15,
      "outputs": [
        {
          "output_type": "display_data",
          "data": {
            "text/plain": [
              "<Figure size 640x480 with 1 Axes>"
            ],
            "image/png": "[encoded data removed]"
          },
          "metadata": {}
        }
      ]
    },
    {
      "cell_type": "markdown",
      "source": [
        "Although the KNN and Tree models have the best performance, it is evident that the ensemble voting models show high performance with low variability compared to the other individual models. Therefore, it can be said that the ensemble models improve their performance. However, there is also a possibility of overfitting."
      ],
      "metadata": {
        "id": "Zk_TeeJGOACN"
      }
    },
    {
      "cell_type": "markdown",
      "source": [
        "# **Ensemble Growing**\n",
        "---"
      ],
      "metadata": {
        "id": "lAO2lHP3OHr1"
      }
    },
    {
      "cell_type": "code",
      "source": [
        "def evaluate_ensemble(models, X, y)->float:\n",
        "  if len(models) == 0:\n",
        "    return 0.0\n",
        "  ensemble = VotingClassifier(estimators=models, voting='soft')\n",
        "  cv = RepeatedStratifiedKFold(n_splits=10, n_repeats=3, random_state=random_seed)\n",
        "  scores = cross_val_score(ensemble, X,y, scoring = 'f1_micro', cv=cv, n_jobs=-1)\n",
        "  return mean(scores)"
      ],
      "metadata": {
        "id": "cPHT9NPOOA3-"
      },
      "execution_count": 16,
      "outputs": []
    },
    {
      "cell_type": "markdown",
      "source": [
        "Based on the evaluation, determine which model should be added to the ensemble."
      ],
      "metadata": {
        "id": "ETXQHCaeU0zm"
      }
    },
    {
      "cell_type": "code",
      "source": [
        "def grow_round(models, models_candidate, X, y)->tuple:\n",
        "  baseline = evaluate_ensemble(models, X, y)\n",
        "  best_score, addition  = baseline, None\n",
        "  for m in models_candidate:\n",
        "    copy_models = models.copy()\n",
        "    copy_models.append(m)\n",
        "    score = evaluate_ensemble(copy_models, X, y)\n",
        "    if score > best_score:\n",
        "      best_score, addition = score, m\n",
        "  return best_score, addition"
      ],
      "metadata": {
        "id": "Zfmlj8sLPgte"
      },
      "execution_count": 17,
      "outputs": []
    },
    {
      "cell_type": "markdown",
      "source": [
        "Remove the models whose inclusion improves the ensemble's performance, so they are not considered again in subsequent iterations, as they have already been selected."
      ],
      "metadata": {
        "id": "1Juj3cE_VsrL"
      }
    },
    {
      "cell_type": "code",
      "source": [
        "def grown_ensemble(models, X, y)->tuple:\n",
        "\n",
        "  best_score, best_list = 0.0, []\n",
        "  while True:\n",
        "    score, addition = grow_round(best_list, models, X, y)\n",
        "    if addition is None:\n",
        "      print('>no further improvement')\n",
        "      break\n",
        "    best_score = score\n",
        "    models.remove(addition)\n",
        "    best_list.append(addition)\n",
        "    names = ','.join([n for n,_ in best_list])\n",
        "    print('>%.3f (%s)' % (score, names))\n",
        "  return best_score, best_list"
      ],
      "metadata": {
        "id": "uzFE9wqvRrnG"
      },
      "execution_count": 18,
      "outputs": []
    },
    {
      "cell_type": "code",
      "source": [
        "models = get_models()\n",
        "score, model_list = grown_ensemble(models, X_, y)\n",
        "names = ','.join([n for n,_ in model_list])"
      ],
      "metadata": {
        "id": "DjFqTHtYTvjP",
        "colab": {
          "base_uri": "https://localhost:8080/"
        },
        "outputId": "95915207-e7f3-4f10-c8bc-83d95a3f7f2c"
      },
      "execution_count": 19,
      "outputs": [
        {
          "output_type": "stream",
          "name": "stdout",
          "text": [
            ">0.946 (knn)\n",
            ">0.947 (knn,lr)\n",
            ">0.950 (knn,lr,Tree)\n",
            ">0.952 (knn,lr,Tree,svm)\n",
            ">no further improvement\n"
          ]
        }
      ]
    },
    {
      "cell_type": "markdown",
      "source": [
        "It is evident that the model that does not contribute to the ensemble is Naive Bayes; the rest increase the ensemble's F1 score."
      ],
      "metadata": {
        "id": "hm7m3fSyo0SI"
      }
    },
    {
      "cell_type": "code",
      "source": [
        "print('Models: %s' % names)\n",
        "print('Final Mean F1 score: %.3f' % score)"
      ],
      "metadata": {
        "colab": {
          "base_uri": "https://localhost:8080/"
        },
        "id": "LgsJ0J5dV0Be",
        "outputId": "1f2b0495-93a7-4372-cd46-267cfe7fcac7"
      },
      "execution_count": 20,
      "outputs": [
        {
          "output_type": "stream",
          "name": "stdout",
          "text": [
            "Models: knn,lr,Tree,svm\n",
            "Final Mean F1 score: 0.952\n"
          ]
        }
      ]
    },
    {
      "cell_type": "markdown",
      "source": [
        "# **Info**\n",
        "---\n",
        "**@By:** Kaiziferr\n",
        "\n",
        "**@Git:** https://github.com/Kaiziferr"
      ],
      "metadata": {
        "id": "T_f4QqVad4Js"
      }
    }
  ]
}