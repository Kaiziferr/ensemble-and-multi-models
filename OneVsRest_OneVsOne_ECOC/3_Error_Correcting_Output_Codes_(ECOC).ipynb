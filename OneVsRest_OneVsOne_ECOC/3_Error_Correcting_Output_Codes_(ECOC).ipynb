{
  "nbformat": 4,
  "nbformat_minor": 0,
  "metadata": {
    "colab": {
      "provenance": []
    },
    "kernelspec": {
      "name": "python3",
      "display_name": "Python 3"
    },
    "language_info": {
      "name": "python"
    }
  },
  "cells": [
    {
      "cell_type": "code",
      "execution_count": 28,
      "metadata": {
        "id": "dXcLI00mjQjF"
      },
      "outputs": [],
      "source": [
        "import warnings\n",
        "\n",
        "import pandas as pd\n",
        "from numpy import (mean, std)\n",
        "from sklearn.datasets import make_classification\n",
        "from sklearn.model_selection import (\n",
        "    train_test_split, cross_val_score, GridSearchCV)\n",
        "from sklearn.linear_model import LogisticRegression\n",
        "from sklearn.svm import SVC\n",
        "from sklearn.multiclass import OutputCodeClassifier\n",
        "from sklearn.metrics import accuracy_score"
      ]
    },
    {
      "cell_type": "markdown",
      "source": [
        "The goal of this exercise is to implement theError-Correcting Output Codes (ECOC) strategy for a classification problem.\n",
        "\n"
      ],
      "metadata": {
        "id": "oYhwT57I6GWB"
      }
    },
    {
      "cell_type": "markdown",
      "source": [
        "# **Info**\n",
        "---"
      ],
      "metadata": {
        "id": "0_zh3V27jbzv"
      }
    },
    {
      "cell_type": "markdown",
      "source": [
        "@By: Kaiziferr\n",
        "\n",
        "@Git: https://github.com/Kaiziferr"
      ],
      "metadata": {
        "id": "WVG6EizPjeye"
      }
    },
    {
      "cell_type": "markdown",
      "source": [
        "# **Config**\n",
        "---\n"
      ],
      "metadata": {
        "id": "eDE1y35HlN9m"
      }
    },
    {
      "cell_type": "code",
      "source": [
        "random_seed=12354"
      ],
      "metadata": {
        "id": "a8evEAcYlQ7H"
      },
      "execution_count": 29,
      "outputs": []
    },
    {
      "cell_type": "markdown",
      "source": [
        "# **Data**\n",
        "\n",
        "---\n",
        "\n"
      ],
      "metadata": {
        "id": "6Z-d-vLklViO"
      }
    },
    {
      "cell_type": "markdown",
      "source": [
        "A synthetic dataset of 1,000 samples was generated, with 8 features, of which 6 are informative and 2 are redundant, and 5 classes. The classification error rate is 5%."
      ],
      "metadata": {
        "id": "J3z1Algm6qfB"
      }
    },
    {
      "cell_type": "code",
      "source": [
        "X, y = make_classification(\n",
        "    n_samples=1000,\n",
        "    n_features=8,\n",
        "    n_informative=6,\n",
        "    n_redundant=2,\n",
        "    n_classes=5,\n",
        "    flip_y=0.05,\n",
        "    random_state=random_seed\n",
        ")"
      ],
      "metadata": {
        "id": "eyWojV2Jk28p"
      },
      "execution_count": 30,
      "outputs": []
    },
    {
      "cell_type": "markdown",
      "source": [
        "A context is used where the categories represent letters, in order to give meaning to the data."
      ],
      "metadata": {
        "id": "V29NYUNx6yjg"
      }
    },
    {
      "cell_type": "markdown",
      "source": [
        "It is evident that the dataset is balanced; the small discrepancy is due to the data split.\n",
        "\n"
      ],
      "metadata": {
        "id": "BCAJUG2J66XR"
      }
    },
    {
      "cell_type": "code",
      "source": [
        "y = pd.Series(y).replace({0:'A',1:'B',2:'C',3:'D', 4:'E'})\n",
        "y.value_counts()"
      ],
      "metadata": {
        "colab": {
          "base_uri": "https://localhost:8080/",
          "height": 241
        },
        "id": "Dihvbg1CmEj3",
        "outputId": "41839505-57b3-4cd7-df3c-7700513aa98c"
      },
      "execution_count": 31,
      "outputs": [
        {
          "output_type": "execute_result",
          "data": {
            "text/plain": [
              "D    208\n",
              "B    201\n",
              "E    199\n",
              "A    196\n",
              "C    196\n",
              "Name: count, dtype: int64"
            ],
            "text/html": [
              "<div>\n",
              "<style scoped>\n",
              "    .dataframe tbody tr th:only-of-type {\n",
              "        vertical-align: middle;\n",
              "    }\n",
              "\n",
              "    .dataframe tbody tr th {\n",
              "        vertical-align: top;\n",
              "    }\n",
              "\n",
              "    .dataframe thead th {\n",
              "        text-align: right;\n",
              "    }\n",
              "</style>\n",
              "<table border=\"1\" class=\"dataframe\">\n",
              "  <thead>\n",
              "    <tr style=\"text-align: right;\">\n",
              "      <th></th>\n",
              "      <th>count</th>\n",
              "    </tr>\n",
              "  </thead>\n",
              "  <tbody>\n",
              "    <tr>\n",
              "      <th>D</th>\n",
              "      <td>208</td>\n",
              "    </tr>\n",
              "    <tr>\n",
              "      <th>B</th>\n",
              "      <td>201</td>\n",
              "    </tr>\n",
              "    <tr>\n",
              "      <th>E</th>\n",
              "      <td>199</td>\n",
              "    </tr>\n",
              "    <tr>\n",
              "      <th>A</th>\n",
              "      <td>196</td>\n",
              "    </tr>\n",
              "    <tr>\n",
              "      <th>C</th>\n",
              "      <td>196</td>\n",
              "    </tr>\n",
              "  </tbody>\n",
              "</table>\n",
              "</div><br><label><b>dtype:</b> int64</label>"
            ]
          },
          "metadata": {},
          "execution_count": 31
        }
      ]
    },
    {
      "cell_type": "markdown",
      "source": [
        "# **Data Split**\n",
        "---"
      ],
      "metadata": {
        "id": "L4sOAcozmP8x"
      }
    },
    {
      "cell_type": "code",
      "source": [
        "X_train, X_test, y_train, y_test = train_test_split(\n",
        "    X,\n",
        "    y,\n",
        "    test_size=0.35,\n",
        "    stratify=y,\n",
        "    random_state=random_seed\n",
        ")"
      ],
      "metadata": {
        "id": "dOpORTWqmlsY"
      },
      "execution_count": 32,
      "outputs": []
    },
    {
      "cell_type": "markdown",
      "source": [
        "# **Model**\n",
        "---\n",
        "\n"
      ],
      "metadata": {
        "id": "V8ZfJfssnIif"
      }
    },
    {
      "cell_type": "markdown",
      "source": [
        "Two logistic regression models and two SVC models are defined, with the same parameters."
      ],
      "metadata": {
        "id": "K_WgCUxg7b9J"
      }
    },
    {
      "cell_type": "code",
      "source": [
        "model_log = LogisticRegression(random_state=random_seed)\n",
        "\n",
        "model_logB = LogisticRegression(**model_log.get_params())\n",
        "\n",
        "model_svc = SVC(random_state=random_seed)\n",
        "\n",
        "model_svcB = SVC(**model_svc.get_params())"
      ],
      "metadata": {
        "id": "k8tMNP_tslxn"
      },
      "execution_count": 33,
      "outputs": []
    },
    {
      "cell_type": "markdown",
      "source": [
        "**LogisticRegression**"
      ],
      "metadata": {
        "id": "WVKD_y5Z-A_y"
      }
    },
    {
      "cell_type": "markdown",
      "source": [
        "A logistic regression model is fitted, without going into much detail about the parameters, with the aim of observing how the model performs without applying ECOC."
      ],
      "metadata": {
        "id": "YKBIBr1_73Ap"
      }
    },
    {
      "cell_type": "code",
      "source": [
        "model_logB.fit(X_train, y_train)\n",
        "y_predict = model_logB.predict(X_test)"
      ],
      "metadata": {
        "id": "KFhk3dqprMIQ"
      },
      "execution_count": 34,
      "outputs": []
    },
    {
      "cell_type": "markdown",
      "source": [
        "The model has an accuracy performance of 51%. It is not very good at distinguishing between classes, and one could even hastily conclude that its performance is only slightly better than that of a model making random predictions."
      ],
      "metadata": {
        "id": "T1-vjs2I8p2s"
      }
    },
    {
      "cell_type": "code",
      "source": [
        "accuracy_score(y_test, y_predict)"
      ],
      "metadata": {
        "colab": {
          "base_uri": "https://localhost:8080/"
        },
        "id": "gwOLmuiU78Q6",
        "outputId": "fe15d897-ec67-49ef-bee1-d1d24f4305f4"
      },
      "execution_count": 35,
      "outputs": [
        {
          "output_type": "execute_result",
          "data": {
            "text/plain": [
              "0.5085714285714286"
            ]
          },
          "metadata": {},
          "execution_count": 35
        }
      ]
    },
    {
      "cell_type": "markdown",
      "source": [
        "Cross-validation was used with the entire dataset to evaluate the model’s performance across different data splits. As evidenced, regardless of the partition used, the model consistently demonstrated poor performance, with only minor deviations. This indicates that the model did not perform significantly better or worse than previously observed"
      ],
      "metadata": {
        "id": "WIJGBc7P8q76"
      }
    },
    {
      "cell_type": "code",
      "source": [
        "score = cross_val_score(model_logB, X, y, scoring='accuracy', cv=5, n_jobs=-1)\n",
        "print('Mean: %.3f Std: (%.3f)' % (mean(score), std(score)), \"scores:\" ,score)"
      ],
      "metadata": {
        "colab": {
          "base_uri": "https://localhost:8080/"
        },
        "id": "CJzUD5Yy76dp",
        "outputId": "a9d3a5ca-32d7-4718-85b9-6b3a381e242c"
      },
      "execution_count": 36,
      "outputs": [
        {
          "output_type": "stream",
          "name": "stdout",
          "text": [
            "Mean: 0.513 Std: (0.032) scores: [0.54  0.475 0.56  0.505 0.485]\n"
          ]
        }
      ]
    },
    {
      "cell_type": "markdown",
      "source": [
        "**Logistic Regression with Error-Correcting Output Codes (ECOC)**"
      ],
      "metadata": {
        "id": "jhi45V2e-f4a"
      }
    },
    {
      "cell_type": "markdown",
      "source": [
        "ECOC is applied using 5 logistic regression models."
      ],
      "metadata": {
        "id": "kypFgVXr-eYy"
      }
    },
    {
      "cell_type": "code",
      "source": [
        "ecoc_log = OutputCodeClassifier(model_log, code_size=1, random_state=random_seed)\n",
        "ecoc_log.fit(X_train, y_train)\n",
        "y_predict = ecoc_log.predict(X_test)"
      ],
      "metadata": {
        "id": "KX6dDd6l8FUq"
      },
      "execution_count": 37,
      "outputs": []
    },
    {
      "cell_type": "markdown",
      "source": [
        "The model performs worse than the implementation without ECOC."
      ],
      "metadata": {
        "id": "CZHQXUHK-9Ez"
      }
    },
    {
      "cell_type": "code",
      "source": [
        "accuracy_score(y_test, y_predict)"
      ],
      "metadata": {
        "colab": {
          "base_uri": "https://localhost:8080/"
        },
        "id": "dNbJhQD--w0K",
        "outputId": "f7316bd0-7509-4faf-8c98-fabe2ef40b08"
      },
      "execution_count": 38,
      "outputs": [
        {
          "output_type": "execute_result",
          "data": {
            "text/plain": [
              "0.3742857142857143"
            ]
          },
          "metadata": {},
          "execution_count": 38
        }
      ]
    },
    {
      "cell_type": "markdown",
      "source": [
        "Cross-validation was used with the entire dataset to evaluate the model’s performance across different data splits. As evidenced, regardless of the partition used, the model consistently demonstrated poor performance, with only minor deviations. This indicates that the model did not perform significantly better or worse than previously observed"
      ],
      "metadata": {
        "id": "JFIAIH8G_OxM"
      }
    },
    {
      "cell_type": "code",
      "source": [
        "score = cross_val_score(ecoc_log, X, y, scoring='accuracy', cv=5, n_jobs=-1)\n",
        "print('Mean: %.3f Std: (%.3f)' % (mean(score), std(score)), \"scores:\" ,score)"
      ],
      "metadata": {
        "colab": {
          "base_uri": "https://localhost:8080/"
        },
        "id": "4YdtnGBt-01S",
        "outputId": "ac5d2791-8d4a-4a76-c943-481c6763d901"
      },
      "execution_count": 39,
      "outputs": [
        {
          "output_type": "stream",
          "name": "stdout",
          "text": [
            "Mean: 0.376 Std: (0.026) scores: [0.37  0.385 0.385 0.41  0.33 ]\n"
          ]
        }
      ]
    },
    {
      "cell_type": "markdown",
      "source": [
        "**Logistic Regression with Error-Correcting Output Codes (ECOC) using GridSearchCV**"
      ],
      "metadata": {
        "id": "E-YS7iuZ_dpl"
      }
    },
    {
      "cell_type": "code",
      "source": [
        "paramgrid = {\n",
        "    \"code_size\": list(range(1,21))\n",
        "}\n",
        "ecoc_log = OutputCodeClassifier(\n",
        "    estimator=model_log,\n",
        "    )\n",
        "grid_ecoc = GridSearchCV(\n",
        "    ecoc_log,\n",
        "    paramgrid,\n",
        "    scoring='accuracy',\n",
        "    refit=True,\n",
        "    cv=5,\n",
        "    return_train_score=True)\n",
        "\n",
        "mf = grid_ecoc.fit(X_train, y_train)"
      ],
      "metadata": {
        "id": "RnOUhj5l_QUJ"
      },
      "execution_count": 40,
      "outputs": []
    },
    {
      "cell_type": "code",
      "source": [
        "mf.best_params_"
      ],
      "metadata": {
        "colab": {
          "base_uri": "https://localhost:8080/"
        },
        "id": "VLxfwitEBWi0",
        "outputId": "f64ba6d7-b182-4108-a900-c0d53adafa6c"
      },
      "execution_count": 41,
      "outputs": [
        {
          "output_type": "execute_result",
          "data": {
            "text/plain": [
              "{'code_size': 14}"
            ]
          },
          "metadata": {},
          "execution_count": 41
        }
      ]
    },
    {
      "cell_type": "markdown",
      "source": [
        "The model does not improve when using the ECOC technique by increasing the number of models to 20; instead, the performance worsens"
      ],
      "metadata": {
        "id": "UnTEpMVIBtnL"
      }
    },
    {
      "cell_type": "code",
      "source": [
        "best_model = mf.best_estimator_\n",
        "y_pred = best_model.predict(X_test)\n",
        "accuracy_score(y_test, y_pred)"
      ],
      "metadata": {
        "colab": {
          "base_uri": "https://localhost:8080/"
        },
        "id": "hpTygmeT_QRJ",
        "outputId": "3717d31f-a983-4c49-a010-231c990d54a4"
      },
      "execution_count": 42,
      "outputs": [
        {
          "output_type": "execute_result",
          "data": {
            "text/plain": [
              "0.5028571428571429"
            ]
          },
          "metadata": {},
          "execution_count": 42
        }
      ]
    },
    {
      "cell_type": "code",
      "source": [
        "score = cross_val_score(best_model, X, y, scoring='accuracy', cv=5, n_jobs=-1)\n",
        "print('Mean: %.3f Std: (%.3f)' % (mean(score), std(score)), \"scores:\" ,score)"
      ],
      "metadata": {
        "colab": {
          "base_uri": "https://localhost:8080/"
        },
        "id": "stZ8WLct_QN8",
        "outputId": "058e8db5-18e2-4d7a-aafa-4601e4fb1217"
      },
      "execution_count": 43,
      "outputs": [
        {
          "output_type": "stream",
          "name": "stdout",
          "text": [
            "Mean: 0.497 Std: (0.030) scores: [0.535 0.485 0.525 0.49  0.45 ]\n"
          ]
        }
      ]
    },
    {
      "cell_type": "markdown",
      "source": [
        "**Support Vector Machine (SVC)**"
      ],
      "metadata": {
        "id": "SRwGhp1FCb77"
      }
    },
    {
      "cell_type": "markdown",
      "source": [
        "A Support Vector Machine (SVC) model is fitted, without going into much detail about the parameters, with the aim of observing how the model performs without applying ECOC."
      ],
      "metadata": {
        "id": "Ug15o28xHn97"
      }
    },
    {
      "cell_type": "code",
      "source": [
        "model_svcB.fit(X_train, y_train)\n",
        "y_predict = model_svcB.predict(X_test)"
      ],
      "metadata": {
        "id": "GGJHo7-XsyjY"
      },
      "execution_count": 44,
      "outputs": []
    },
    {
      "cell_type": "markdown",
      "source": [
        "The unoptimized model has an accuracy of 69%, which is an acceptable performance for a non-critical problem."
      ],
      "metadata": {
        "id": "5id6234rI67t"
      }
    },
    {
      "cell_type": "code",
      "source": [
        "accuracy_score(y_test, y_predict)"
      ],
      "metadata": {
        "id": "w3sriHkvtCmH",
        "colab": {
          "base_uri": "https://localhost:8080/"
        },
        "outputId": "fc30da1f-951f-49c4-dab9-37dffa6ee4a8"
      },
      "execution_count": 45,
      "outputs": [
        {
          "output_type": "execute_result",
          "data": {
            "text/plain": [
              "0.6857142857142857"
            ]
          },
          "metadata": {},
          "execution_count": 45
        }
      ]
    },
    {
      "cell_type": "markdown",
      "source": [
        "As observed in the iterations, the model tends to improve its performance, potentially reaching an average accuracy of 0.71. It’s important to highlight that all the data was used in this fold validation."
      ],
      "metadata": {
        "id": "_YjRSG2RJXUr"
      }
    },
    {
      "cell_type": "code",
      "source": [
        "score = cross_val_score(model_svcB, X, y, scoring='accuracy', cv=5, n_jobs=-1)\n",
        "print('Mean: %.3f Std: (%.3f)' % (mean(score), std(score)), \"scores:\" ,score)"
      ],
      "metadata": {
        "colab": {
          "base_uri": "https://localhost:8080/"
        },
        "id": "ECr_CoprG6pz",
        "outputId": "4ee0c0cf-9af4-42ed-c4ac-0c1e693eebcb"
      },
      "execution_count": 46,
      "outputs": [
        {
          "output_type": "stream",
          "name": "stdout",
          "text": [
            "Mean: 0.712 Std: (0.026) scores: [0.715 0.72  0.755 0.685 0.685]\n"
          ]
        }
      ]
    },
    {
      "cell_type": "markdown",
      "source": [
        "**Support Vector Machine (SVC) with Error-Correcting Output Codes (ECOC)**"
      ],
      "metadata": {
        "id": "OKq4TsX8Jfu8"
      }
    },
    {
      "cell_type": "markdown",
      "source": [
        "ECOC is applied using 5 logistic regression models."
      ],
      "metadata": {
        "id": "e7XlcAWjKZ7-"
      }
    },
    {
      "cell_type": "code",
      "source": [
        "ecoc_svc = OutputCodeClassifier(model_svc, code_size=1, random_state=random_seed)\n",
        "ecoc_svc.fit(X_train, y_train)\n",
        "y_predict = ecoc_svc.predict(X_test)"
      ],
      "metadata": {
        "id": "MY1f2We8G6iW"
      },
      "execution_count": 47,
      "outputs": []
    },
    {
      "cell_type": "markdown",
      "source": [
        "The model performs worse than the implementation without ECOC."
      ],
      "metadata": {
        "id": "1TzltZz-LEBg"
      }
    },
    {
      "cell_type": "code",
      "source": [
        "accuracy_score(y_test, y_predict)"
      ],
      "metadata": {
        "colab": {
          "base_uri": "https://localhost:8080/"
        },
        "id": "zUQjyjLpKTq4",
        "outputId": "c8b42143-e080-4cd0-bed6-e4c2c6376ee4"
      },
      "execution_count": 48,
      "outputs": [
        {
          "output_type": "execute_result",
          "data": {
            "text/plain": [
              "0.4942857142857143"
            ]
          },
          "metadata": {},
          "execution_count": 48
        }
      ]
    },
    {
      "cell_type": "markdown",
      "source": [
        "Since the average performance per iteration was around 51%, that's approximately 20 points lower in performance compared to the SVC model."
      ],
      "metadata": {
        "id": "sUrzORvGLhnz"
      }
    },
    {
      "cell_type": "code",
      "source": [
        "score = cross_val_score(ecoc_svc, X, y, scoring='accuracy', cv=5, n_jobs=-1)\n",
        "print('Mean: %.3f Std: (%.3f)' % (mean(score), std(score)), \"scores:\" ,score)"
      ],
      "metadata": {
        "colab": {
          "base_uri": "https://localhost:8080/"
        },
        "id": "dyVngBPGLISj",
        "outputId": "8b56808f-9246-4b5e-f4f2-0dc5f446131e"
      },
      "execution_count": 50,
      "outputs": [
        {
          "output_type": "stream",
          "name": "stdout",
          "text": [
            "Mean: 0.507 Std: (0.014) scores: [0.48  0.505 0.52  0.515 0.515]\n"
          ]
        }
      ]
    },
    {
      "cell_type": "markdown",
      "source": [
        "**Support Vector Machine (SVC) with Error-Correcting Output Codes (ECOC) using GridSearchCV**"
      ],
      "metadata": {
        "id": "PAUEHcxiL8mm"
      }
    },
    {
      "cell_type": "code",
      "source": [
        "paramgrid = {\n",
        "    \"code_size\": list(range(1,21))\n",
        "}\n",
        "ecoc_csv = OutputCodeClassifier(\n",
        "    estimator=model_svc,\n",
        "    )\n",
        "grid_ecoc = GridSearchCV(\n",
        "    ecoc_csv,\n",
        "    paramgrid,\n",
        "    scoring='accuracy',\n",
        "    refit=True,\n",
        "    cv=5,\n",
        "    return_train_score=True)\n",
        "\n",
        "mf = grid_ecoc.fit(X_train, y_train)"
      ],
      "metadata": {
        "id": "iNR6W_XoZq9C"
      },
      "execution_count": 51,
      "outputs": []
    },
    {
      "cell_type": "code",
      "source": [
        "mf.best_params_"
      ],
      "metadata": {
        "colab": {
          "base_uri": "https://localhost:8080/"
        },
        "id": "nWb1gd5pMNNE",
        "outputId": "a3747353-281c-45bb-c018-24dbb59790fa"
      },
      "execution_count": 52,
      "outputs": [
        {
          "output_type": "execute_result",
          "data": {
            "text/plain": [
              "{'code_size': 17}"
            ]
          },
          "metadata": {},
          "execution_count": 52
        }
      ]
    },
    {
      "cell_type": "markdown",
      "source": [
        "The model doesn't show a significant improvement when using the ECOC technique by increasing the number of models to 17. Instead, the performance is equivalent to the unoptimized model."
      ],
      "metadata": {
        "id": "OnbpQQc_OzFc"
      }
    },
    {
      "cell_type": "code",
      "source": [
        "best_model = mf.best_estimator_\n",
        "y_pred = best_model.predict(X_test)"
      ],
      "metadata": {
        "id": "yjoutS3GMqPM"
      },
      "execution_count": 54,
      "outputs": []
    },
    {
      "cell_type": "code",
      "source": [
        "accuracy_score(y_test, y_pred)"
      ],
      "metadata": {
        "colab": {
          "base_uri": "https://localhost:8080/"
        },
        "id": "c3ZWtxcYN7cu",
        "outputId": "8e401024-3173-47b1-c369-34c2fa31f499"
      },
      "execution_count": 55,
      "outputs": [
        {
          "output_type": "execute_result",
          "data": {
            "text/plain": [
              "0.6742857142857143"
            ]
          },
          "metadata": {},
          "execution_count": 55
        }
      ]
    },
    {
      "cell_type": "code",
      "source": [
        "score = cross_val_score(best_model, X, y, scoring='accuracy', cv=5, n_jobs=-1)\n",
        "print('Mean: %.3f Std: (%.3f)' % (mean(score), std(score)), \"scores:\" ,score)"
      ],
      "metadata": {
        "colab": {
          "base_uri": "https://localhost:8080/"
        },
        "id": "Bl7u5KiEMqD2",
        "outputId": "3605f915-f45b-4c4c-c059-b95b732f0cd9"
      },
      "execution_count": 56,
      "outputs": [
        {
          "output_type": "stream",
          "name": "stdout",
          "text": [
            "Mean: 0.697 Std: (0.026) scores: [0.69  0.68  0.745 0.67  0.7  ]\n"
          ]
        }
      ]
    },
    {
      "cell_type": "markdown",
      "source": [
        "Although no improvement was observed between the unoptimized models and the ECOC technique, it is still worth considering ECOC for traditional (non-ensemble) models, as it can enhance their performance capabilities."
      ],
      "metadata": {
        "id": "H5_1wvkUO2QM"
      }
    }
  ]
}