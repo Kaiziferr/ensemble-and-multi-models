{
  "cells": [
    {
      "cell_type": "code",
      "execution_count": 115,
      "metadata": {
        "id": "24YMukvfIvvV"
      },
      "outputs": [],
      "source": [
        "import warnings\n",
        "\n",
        "import pandas as pd\n",
        "from numpy import (\n",
        "    mean, std\n",
        ")\n",
        "\n",
        "import seaborn as sns\n",
        "import matplotlib.pyplot as plt\n",
        "from matplotlib.colors import ListedColormap\n",
        "\n",
        "from sklearn.model_selection import (\n",
        "    train_test_split,\n",
        "    RepeatedStratifiedKFold,\n",
        "    cross_val_score\n",
        ")\n",
        "\n",
        "from sklearn.preprocessing import StandardScaler\n",
        "\n",
        "from sklearn.linear_model import LogisticRegression\n",
        "from sklearn.tree import DecisionTreeClassifier\n",
        "from sklearn.neighbors import KNeighborsClassifier\n",
        "from sklearn.naive_bayes import GaussianNB\n",
        "from sklearn.svm import SVC\n",
        "\n",
        "from sklearn.ensemble import VotingClassifier"
      ]
    },
    {
      "cell_type": "markdown",
      "metadata": {},
      "source": [
        "# **Info**\n",
        "---\n",
        "**@By:** Kaiziferr\n",
        "\n",
        "**@Git:** https://github.com/Kaiziferr"
      ]
    },
    {
      "cell_type": "markdown",
      "metadata": {
        "id": "wuY4_n-sVvUV"
      },
      "source": [
        "# **Utils**\n",
        "---"
      ]
    },
    {
      "cell_type": "code",
      "execution_count": 116,
      "metadata": {
        "id": "9KW7VN6dVy_W"
      },
      "outputs": [],
      "source": [
        "def generate_colors(paleta:str=\"Set1\", n_colors:int=15)-> tuple:\n",
        "  \"\"\"color generator\"\"\"\n",
        "  try:\n",
        "    cmap = sns.color_palette(paleta, n_colors).as_hex()\n",
        "    list_camp = ListedColormap(cmap)\n",
        "    return cmap, list_camp\n",
        "  except Exception as e:\n",
        "    print(e)\n",
        "\n",
        "def plot_bar(data:pd.DataFrame, paleta:list=None, figsize_x:int=8, figsize_y:int=5,\n",
        "             fontsize:int=15, **kwards)->None:\n",
        "  \"\"\"Grafica un diagrama de barras con multiples caracteristicas\"\"\"\n",
        "  try:\n",
        "    paleta = paleta if paleta !=None else generate_colors()[0]\n",
        "    v = kwards\n",
        "    ejeX = v[\"ejeX\"]\n",
        "\n",
        "    fig, ax = plt.subplots(figsize = (figsize_x, figsize_y))\n",
        "    fig.suptitle(f'Diagrama de barras {v[\"title\"]}', fontsize=fontsize)\n",
        "\n",
        "    if type(ejeX) == str:\n",
        "      sns.countplot(x=ejeX, data=data, ax = ax, palette=paleta)\n",
        "    else:\n",
        "      ejeX = v['ejeX'][0]\n",
        "      sns.countplot(x=ejeX, hue=v['ejeX'][1], data=data, ax=ax, palette=paleta)\n",
        "\n",
        "    ax.set_ylabel(v['ejey'], size = 12)\n",
        "    ax.set_xlabel(ejeX, size=fontsize-3)\n",
        "\n",
        "    ax.set_xticklabels(ax.get_xticklabels(), fontsize = fontsize-3)\n",
        "    for p in ax.patches:\n",
        "      try:\n",
        "        height = int(p.get_height())\n",
        "        height_text = height\n",
        "        if kwards['p'] == True:\n",
        "          percentage = round(height/data.shape[0], 5)\n",
        "          height_text = f'{height} ({percentage})'\n",
        "        ax.text(p.get_x()+p.get_width()/2., height + 1, height_text, ha=\"center\")\n",
        "      except:\n",
        "        pass\n",
        "\n",
        "  except Exception as e:\n",
        "    print(e)\n"
      ]
    },
    {
      "cell_type": "markdown",
      "metadata": {
        "id": "85cd1qrZUv9H"
      },
      "source": [
        "# **Config**\n",
        "---"
      ]
    },
    {
      "cell_type": "code",
      "execution_count": 117,
      "metadata": {
        "id": "Jxch3U4IU0e9"
      },
      "outputs": [],
      "source": [
        "random_seed = 12354\n",
        "warnings.filterwarnings('ignore')\n",
        "sns.set(style='darkgrid')\n",
        "title_data = ''\n",
        "palete = sns.color_palette('deep').as_hex()"
      ]
    },
    {
      "cell_type": "markdown",
      "metadata": {
        "id": "rVkOu9BuVRY2"
      },
      "source": [
        "#**Data**\n",
        "---"
      ]
    },
    {
      "cell_type": "code",
      "execution_count": 118,
      "metadata": {
        "id": "fO76mNzKVWFu"
      },
      "outputs": [],
      "source": [
        "url = 'https://raw.githubusercontent.com/Kaiziferr/datasets/main/cryptojacking.csv'\n",
        "data = pd.read_csv(url, dtype=str).drop('Unnamed: 0', axis=1)"
      ]
    },
    {
      "cell_type": "code",
      "execution_count": 119,
      "metadata": {
        "colab": {
          "base_uri": "https://localhost:8080/",
          "height": 173
        },
        "id": "P-JsJItqVZ1V",
        "outputId": "cfa4194f-6a9b-46a3-b4b6-9ccd35ccf652"
      },
      "outputs": [
        {
          "data": {
            "application/vnd.google.colaboratory.intrinsic+json": {
              "type": "dataframe",
              "variable_name": "data"
            },
            "text/html": [
              "\n",
              "  <div id=\"df-ada9c466-98f7-484b-bbc7-704fc988e246\" class=\"colab-df-container\">\n",
              "    <div>\n",
              "<style scoped>\n",
              "    .dataframe tbody tr th:only-of-type {\n",
              "        vertical-align: middle;\n",
              "    }\n",
              "\n",
              "    .dataframe tbody tr th {\n",
              "        vertical-align: top;\n",
              "    }\n",
              "\n",
              "    .dataframe thead th {\n",
              "        text-align: right;\n",
              "    }\n",
              "</style>\n",
              "<table border=\"1\" class=\"dataframe\">\n",
              "  <thead>\n",
              "    <tr style=\"text-align: right;\">\n",
              "      <th></th>\n",
              "      <th>Name</th>\n",
              "      <th>Netflows</th>\n",
              "      <th>First_Protocol</th>\n",
              "      <th>Second_Protocol</th>\n",
              "      <th>Third_Protocol</th>\n",
              "      <th>p1_d</th>\n",
              "      <th>p2_d</th>\n",
              "      <th>p3_d</th>\n",
              "      <th>duration</th>\n",
              "      <th>max_d</th>\n",
              "      <th>...</th>\n",
              "      <th>first_dp</th>\n",
              "      <th>second_dp</th>\n",
              "      <th>third_dp</th>\n",
              "      <th>p1_ip</th>\n",
              "      <th>p2_ip</th>\n",
              "      <th>p3_ip</th>\n",
              "      <th>p1_ib</th>\n",
              "      <th>p2_ib</th>\n",
              "      <th>p3_ib</th>\n",
              "      <th>Type</th>\n",
              "    </tr>\n",
              "  </thead>\n",
              "  <tbody>\n",
              "    <tr>\n",
              "      <th>0</th>\n",
              "      <td>0-csves/0.csv</td>\n",
              "      <td>65</td>\n",
              "      <td>TCP</td>\n",
              "      <td>UDP</td>\n",
              "      <td>NaN</td>\n",
              "      <td>18.939</td>\n",
              "      <td>168.173</td>\n",
              "      <td>194.287</td>\n",
              "      <td>7845.125999999999</td>\n",
              "      <td>244.362</td>\n",
              "      <td>...</td>\n",
              "      <td>443</td>\n",
              "      <td>80.0</td>\n",
              "      <td>123.0</td>\n",
              "      <td>3.0</td>\n",
              "      <td>7.0</td>\n",
              "      <td>22.0</td>\n",
              "      <td>127.0</td>\n",
              "      <td>255.0</td>\n",
              "      <td>1888.0</td>\n",
              "      <td>0</td>\n",
              "    </tr>\n",
              "    <tr>\n",
              "      <th>1</th>\n",
              "      <td>0-csves/1.csv</td>\n",
              "      <td>18</td>\n",
              "      <td>UDP</td>\n",
              "      <td>TCP</td>\n",
              "      <td>NaN</td>\n",
              "      <td>0.0</td>\n",
              "      <td>0.0</td>\n",
              "      <td>0.0</td>\n",
              "      <td>0.086</td>\n",
              "      <td>0.044</td>\n",
              "      <td>...</td>\n",
              "      <td>443</td>\n",
              "      <td>53.0</td>\n",
              "      <td>53195.0</td>\n",
              "      <td>1.0</td>\n",
              "      <td>1.0</td>\n",
              "      <td>1.0</td>\n",
              "      <td>37.0</td>\n",
              "      <td>47.0</td>\n",
              "      <td>64.0</td>\n",
              "      <td>0</td>\n",
              "    </tr>\n",
              "    <tr>\n",
              "      <th>2</th>\n",
              "      <td>1-csves/0.csv</td>\n",
              "      <td>10</td>\n",
              "      <td>UDP</td>\n",
              "      <td>NaN</td>\n",
              "      <td>NaN</td>\n",
              "      <td>0.0</td>\n",
              "      <td>0.0</td>\n",
              "      <td>0.0</td>\n",
              "      <td>0.0</td>\n",
              "      <td>0.0</td>\n",
              "      <td>...</td>\n",
              "      <td>53</td>\n",
              "      <td>39308.0</td>\n",
              "      <td>54454.0</td>\n",
              "      <td>1.0</td>\n",
              "      <td>1.0</td>\n",
              "      <td>1.0</td>\n",
              "      <td>34.0</td>\n",
              "      <td>43.0</td>\n",
              "      <td>61.75</td>\n",
              "      <td>0</td>\n",
              "    </tr>\n",
              "  </tbody>\n",
              "</table>\n",
              "<p>3 rows × 31 columns</p>\n",
              "</div>\n",
              "    <div class=\"colab-df-buttons\">\n",
              "\n",
              "  <div class=\"colab-df-container\">\n",
              "    <button class=\"colab-df-convert\" onclick=\"convertToInteractive('df-ada9c466-98f7-484b-bbc7-704fc988e246')\"\n",
              "            title=\"Convert this dataframe to an interactive table.\"\n",
              "            style=\"display:none;\">\n",
              "\n",
              "  <svg xmlns=\"http://www.w3.org/2000/svg\" height=\"24px\" viewBox=\"0 -960 960 960\">\n",
              "    <path d=\"M120-120v-720h720v720H120Zm60-500h600v-160H180v160Zm220 220h160v-160H400v160Zm0 220h160v-160H400v160ZM180-400h160v-160H180v160Zm440 0h160v-160H620v160ZM180-180h160v-160H180v160Zm440 0h160v-160H620v160Z\"/>\n",
              "  </svg>\n",
              "    </button>\n",
              "\n",
              "  <style>\n",
              "    .colab-df-container {\n",
              "      display:flex;\n",
              "      gap: 12px;\n",
              "    }\n",
              "\n",
              "    .colab-df-convert {\n",
              "      background-color: #E8F0FE;\n",
              "      border: none;\n",
              "      border-radius: 50%;\n",
              "      cursor: pointer;\n",
              "      display: none;\n",
              "      fill: #1967D2;\n",
              "      height: 32px;\n",
              "      padding: 0 0 0 0;\n",
              "      width: 32px;\n",
              "    }\n",
              "\n",
              "    .colab-df-convert:hover {\n",
              "      background-color: #E2EBFA;\n",
              "      box-shadow: 0px 1px 2px rgba(60, 64, 67, 0.3), 0px 1px 3px 1px rgba(60, 64, 67, 0.15);\n",
              "      fill: #174EA6;\n",
              "    }\n",
              "\n",
              "    .colab-df-buttons div {\n",
              "      margin-bottom: 4px;\n",
              "    }\n",
              "\n",
              "    [theme=dark] .colab-df-convert {\n",
              "      background-color: #3B4455;\n",
              "      fill: #D2E3FC;\n",
              "    }\n",
              "\n",
              "    [theme=dark] .colab-df-convert:hover {\n",
              "      background-color: #434B5C;\n",
              "      box-shadow: 0px 1px 3px 1px rgba(0, 0, 0, 0.15);\n",
              "      filter: drop-shadow(0px 1px 2px rgba(0, 0, 0, 0.3));\n",
              "      fill: #FFFFFF;\n",
              "    }\n",
              "  </style>\n",
              "\n",
              "    <script>\n",
              "      const buttonEl =\n",
              "        document.querySelector('#df-ada9c466-98f7-484b-bbc7-704fc988e246 button.colab-df-convert');\n",
              "      buttonEl.style.display =\n",
              "        google.colab.kernel.accessAllowed ? 'block' : 'none';\n",
              "\n",
              "      async function convertToInteractive(key) {\n",
              "        const element = document.querySelector('#df-ada9c466-98f7-484b-bbc7-704fc988e246');\n",
              "        const dataTable =\n",
              "          await google.colab.kernel.invokeFunction('convertToInteractive',\n",
              "                                                    [key], {});\n",
              "        if (!dataTable) return;\n",
              "\n",
              "        const docLinkHtml = 'Like what you see? Visit the ' +\n",
              "          '<a target=\"_blank\" href=https://colab.research.google.com/notebooks/data_table.ipynb>data table notebook</a>'\n",
              "          + ' to learn more about interactive tables.';\n",
              "        element.innerHTML = '';\n",
              "        dataTable['output_type'] = 'display_data';\n",
              "        await google.colab.output.renderOutput(dataTable, element);\n",
              "        const docLink = document.createElement('div');\n",
              "        docLink.innerHTML = docLinkHtml;\n",
              "        element.appendChild(docLink);\n",
              "      }\n",
              "    </script>\n",
              "  </div>\n",
              "\n",
              "\n",
              "    <div id=\"df-332dd106-f3ef-422a-9faa-6d689abbab86\">\n",
              "      <button class=\"colab-df-quickchart\" onclick=\"quickchart('df-332dd106-f3ef-422a-9faa-6d689abbab86')\"\n",
              "                title=\"Suggest charts\"\n",
              "                style=\"display:none;\">\n",
              "\n",
              "<svg xmlns=\"http://www.w3.org/2000/svg\" height=\"24px\"viewBox=\"0 0 24 24\"\n",
              "     width=\"24px\">\n",
              "    <g>\n",
              "        <path d=\"M19 3H5c-1.1 0-2 .9-2 2v14c0 1.1.9 2 2 2h14c1.1 0 2-.9 2-2V5c0-1.1-.9-2-2-2zM9 17H7v-7h2v7zm4 0h-2V7h2v10zm4 0h-2v-4h2v4z\"/>\n",
              "    </g>\n",
              "</svg>\n",
              "      </button>\n",
              "\n",
              "<style>\n",
              "  .colab-df-quickchart {\n",
              "      --bg-color: #E8F0FE;\n",
              "      --fill-color: #1967D2;\n",
              "      --hover-bg-color: #E2EBFA;\n",
              "      --hover-fill-color: #174EA6;\n",
              "      --disabled-fill-color: #AAA;\n",
              "      --disabled-bg-color: #DDD;\n",
              "  }\n",
              "\n",
              "  [theme=dark] .colab-df-quickchart {\n",
              "      --bg-color: #3B4455;\n",
              "      --fill-color: #D2E3FC;\n",
              "      --hover-bg-color: #434B5C;\n",
              "      --hover-fill-color: #FFFFFF;\n",
              "      --disabled-bg-color: #3B4455;\n",
              "      --disabled-fill-color: #666;\n",
              "  }\n",
              "\n",
              "  .colab-df-quickchart {\n",
              "    background-color: var(--bg-color);\n",
              "    border: none;\n",
              "    border-radius: 50%;\n",
              "    cursor: pointer;\n",
              "    display: none;\n",
              "    fill: var(--fill-color);\n",
              "    height: 32px;\n",
              "    padding: 0;\n",
              "    width: 32px;\n",
              "  }\n",
              "\n",
              "  .colab-df-quickchart:hover {\n",
              "    background-color: var(--hover-bg-color);\n",
              "    box-shadow: 0 1px 2px rgba(60, 64, 67, 0.3), 0 1px 3px 1px rgba(60, 64, 67, 0.15);\n",
              "    fill: var(--button-hover-fill-color);\n",
              "  }\n",
              "\n",
              "  .colab-df-quickchart-complete:disabled,\n",
              "  .colab-df-quickchart-complete:disabled:hover {\n",
              "    background-color: var(--disabled-bg-color);\n",
              "    fill: var(--disabled-fill-color);\n",
              "    box-shadow: none;\n",
              "  }\n",
              "\n",
              "  .colab-df-spinner {\n",
              "    border: 2px solid var(--fill-color);\n",
              "    border-color: transparent;\n",
              "    border-bottom-color: var(--fill-color);\n",
              "    animation:\n",
              "      spin 1s steps(1) infinite;\n",
              "  }\n",
              "\n",
              "  @keyframes spin {\n",
              "    0% {\n",
              "      border-color: transparent;\n",
              "      border-bottom-color: var(--fill-color);\n",
              "      border-left-color: var(--fill-color);\n",
              "    }\n",
              "    20% {\n",
              "      border-color: transparent;\n",
              "      border-left-color: var(--fill-color);\n",
              "      border-top-color: var(--fill-color);\n",
              "    }\n",
              "    30% {\n",
              "      border-color: transparent;\n",
              "      border-left-color: var(--fill-color);\n",
              "      border-top-color: var(--fill-color);\n",
              "      border-right-color: var(--fill-color);\n",
              "    }\n",
              "    40% {\n",
              "      border-color: transparent;\n",
              "      border-right-color: var(--fill-color);\n",
              "      border-top-color: var(--fill-color);\n",
              "    }\n",
              "    60% {\n",
              "      border-color: transparent;\n",
              "      border-right-color: var(--fill-color);\n",
              "    }\n",
              "    80% {\n",
              "      border-color: transparent;\n",
              "      border-right-color: var(--fill-color);\n",
              "      border-bottom-color: var(--fill-color);\n",
              "    }\n",
              "    90% {\n",
              "      border-color: transparent;\n",
              "      border-bottom-color: var(--fill-color);\n",
              "    }\n",
              "  }\n",
              "</style>\n",
              "\n",
              "      <script>\n",
              "        async function quickchart(key) {\n",
              "          const quickchartButtonEl =\n",
              "            document.querySelector('#' + key + ' button');\n",
              "          quickchartButtonEl.disabled = true;  // To prevent multiple clicks.\n",
              "          quickchartButtonEl.classList.add('colab-df-spinner');\n",
              "          try {\n",
              "            const charts = await google.colab.kernel.invokeFunction(\n",
              "                'suggestCharts', [key], {});\n",
              "          } catch (error) {\n",
              "            console.error('Error during call to suggestCharts:', error);\n",
              "          }\n",
              "          quickchartButtonEl.classList.remove('colab-df-spinner');\n",
              "          quickchartButtonEl.classList.add('colab-df-quickchart-complete');\n",
              "        }\n",
              "        (() => {\n",
              "          let quickchartButtonEl =\n",
              "            document.querySelector('#df-332dd106-f3ef-422a-9faa-6d689abbab86 button');\n",
              "          quickchartButtonEl.style.display =\n",
              "            google.colab.kernel.accessAllowed ? 'block' : 'none';\n",
              "        })();\n",
              "      </script>\n",
              "    </div>\n",
              "\n",
              "    </div>\n",
              "  </div>\n"
            ],
            "text/plain": [
              "            Name Netflows First_Protocol Second_Protocol Third_Protocol  \\\n",
              "0  0-csves/0.csv       65            TCP             UDP            NaN   \n",
              "1  0-csves/1.csv       18            UDP             TCP            NaN   \n",
              "2  1-csves/0.csv       10            UDP             NaN            NaN   \n",
              "\n",
              "     p1_d     p2_d     p3_d           duration    max_d  ... first_dp  \\\n",
              "0  18.939  168.173  194.287  7845.125999999999  244.362  ...      443   \n",
              "1     0.0      0.0      0.0              0.086    0.044  ...      443   \n",
              "2     0.0      0.0      0.0                0.0      0.0  ...       53   \n",
              "\n",
              "  second_dp third_dp p1_ip p2_ip p3_ip  p1_ib  p2_ib   p3_ib Type  \n",
              "0      80.0    123.0   3.0   7.0  22.0  127.0  255.0  1888.0    0  \n",
              "1      53.0  53195.0   1.0   1.0   1.0   37.0   47.0    64.0    0  \n",
              "2   39308.0  54454.0   1.0   1.0   1.0   34.0   43.0   61.75    0  \n",
              "\n",
              "[3 rows x 31 columns]"
            ]
          },
          "execution_count": 119,
          "metadata": {},
          "output_type": "execute_result"
        }
      ],
      "source": [
        "data.head(3)"
      ]
    },
    {
      "cell_type": "markdown",
      "metadata": {
        "id": "cjF4dz1gFekE"
      },
      "source": [
        "The data types of the columns are updated"
      ]
    },
    {
      "cell_type": "code",
      "execution_count": 120,
      "metadata": {
        "id": "YUY1l3sfVb1O"
      },
      "outputs": [],
      "source": [
        "data[[\n",
        "    'p1_d', 'p2_d', 'p3_d',\n",
        "    'duration', 'max_d', 'min_d',\n",
        "    'Avg_bps', 'Avg_pps','Avg_bpp',\n",
        "    'p1_ip', 'p2_ip', 'p3_ip',\n",
        "    'p1_ib', 'p2_ib','p3_ib']] = data[[\n",
        "    'p1_d', 'p2_d', 'p3_d',\n",
        "    'duration', 'max_d', 'min_d',\n",
        "    'Avg_bps', 'Avg_pps','Avg_bpp',\n",
        "    'p1_ip', 'p2_ip', 'p3_ip',\n",
        "    'p1_ib', 'p2_ib','p3_ib']].astype('float64')\n",
        "\n",
        "\n",
        "data[[\n",
        "    'Netflows', '#packets',\n",
        "    '#Bytes', '#sp', '#dp']] = data[[\n",
        "    'Netflows', '#packets',\n",
        "    '#Bytes', '#sp', '#dp']].astype('int64')"
      ]
    },
    {
      "cell_type": "markdown",
      "metadata": {
        "id": "caPxmrrFGHyr"
      },
      "source": [
        "It is evident that there is an imbalance in the traffic data of the different types of cryptocurrencies"
      ]
    },
    {
      "cell_type": "code",
      "execution_count": 121,
      "metadata": {
        "colab": {
          "base_uri": "https://localhost:8080/",
          "height": 526
        },
        "id": "2pfqWMNCV9r2",
        "outputId": "9a5e9495-3a77-453e-de67-e3945a23ea55"
      },
      "outputs": [
        {
          "data": {
            "image/png": "[encoded data removed]",
            "text/plain": [
              "<Figure size 800x500 with 1 Axes>"
            ]
          },
          "metadata": {},
          "output_type": "display_data"
        }
      ],
      "source": [
        "plot_bar(\n",
        "    data,\n",
        "    paleta=None,\n",
        "    ejeX='Type',\n",
        "    ejey='count Tipo Criptomonedas',\n",
        "    title='Count Tipo Criptomonedas',\n",
        "    p=True)"
      ]
    },
    {
      "cell_type": "markdown",
      "metadata": {
        "id": "3tSPt8DkWDFV"
      },
      "source": [
        "# **Split**\n",
        "---"
      ]
    },
    {
      "cell_type": "markdown",
      "metadata": {
        "id": "YjyVNrLyGn6s"
      },
      "source": [
        "Based on previous experience with other processes using this dataset, the following features are selected, as they provide relevant information to the models"
      ]
    },
    {
      "cell_type": "code",
      "execution_count": 122,
      "metadata": {
        "id": "EdBkPnHDWF1G"
      },
      "outputs": [],
      "source": [
        "X = data[['p1_d', 'p2_d', 'min_d', '#packets', 'Avg_bpp', 'p2_ip', 'p3_ip',\n",
        "       'p2_ib']]\n",
        "y = data.iloc[:,-1].astype(int)"
      ]
    },
    {
      "cell_type": "markdown",
      "metadata": {
        "id": "JyASAtIiJeIr"
      },
      "source": [
        "A 20% split will be used for testing, with stratified sampling and random shuffling"
      ]
    },
    {
      "cell_type": "code",
      "execution_count": 123,
      "metadata": {
        "id": "6j7rTYL_WbTm"
      },
      "outputs": [],
      "source": [
        "X_train, X_test, y_train, y_test = train_test_split(\n",
        "    X,\n",
        "    y,\n",
        "    test_size=0.8,\n",
        "    random_state=random_seed,\n",
        "    shuffle=True,\n",
        "    stratify=y\n",
        ")"
      ]
    },
    {
      "cell_type": "markdown",
      "metadata": {
        "id": "LqMUJQRQJn26"
      },
      "source": [
        "The data is standardized"
      ]
    },
    {
      "cell_type": "code",
      "execution_count": 124,
      "metadata": {
        "id": "kDvZIyO8DZvq"
      },
      "outputs": [],
      "source": [
        "scaler = StandardScaler()\n",
        "X_train = scaler.fit_transform(X_train)\n",
        "X_test = scaler.transform(X_test)"
      ]
    },
    {
      "cell_type": "markdown",
      "metadata": {
        "id": "jNNWrJ-IWtH1"
      },
      "source": [
        "# **Model**\n",
        "---"
      ]
    },
    {
      "cell_type": "markdown",
      "metadata": {
        "id": "91LnHqzIJ6iz"
      },
      "source": [
        "A function is defined to obtain the conventional models for the ensemble growth and pruning process"
      ]
    },
    {
      "cell_type": "code",
      "execution_count": 125,
      "metadata": {
        "id": "gB0wnSoCcmQb"
      },
      "outputs": [],
      "source": [
        "def get_models():\n",
        "  models = []\n",
        "  models.append(('lr', LogisticRegression(random_state=random_seed)))\n",
        "  models.append(('knn', KNeighborsClassifier()))\n",
        "  models.append(('Tree', DecisionTreeClassifier(random_state=random_seed)))\n",
        "  models.append(('nb', GaussianNB()))\n",
        "  models.append(('svm', SVC(probability=True, random_state=random_seed)))\n",
        "  return models"
      ]
    },
    {
      "cell_type": "markdown",
      "metadata": {
        "id": "el6guLB3KOkD"
      },
      "source": [
        "Another function is defined that validates the performance of a model or ensemble of models using stratified cross-validation"
      ]
    },
    {
      "cell_type": "code",
      "execution_count": 126,
      "metadata": {
        "id": "BMntAKt5cp6b"
      },
      "outputs": [],
      "source": [
        "def evaluate_model(model, X, y):\n",
        "  cv = RepeatedStratifiedKFold(n_splits=10, n_repeats=3, random_state=random_seed)\n",
        "  scores = cross_val_score(model, X,y, scoring = 'f1_micro', cv=cv, n_jobs=-1)\n",
        "  return scores"
      ]
    },
    {
      "cell_type": "code",
      "execution_count": 127,
      "metadata": {
        "colab": {
          "base_uri": "https://localhost:8080/"
        },
        "id": "VjKDhOo0ejxN",
        "outputId": "9f2e0335-b66d-4956-8c80-106343627fcc"
      },
      "outputs": [
        {
          "name": "stdout",
          "output_type": "stream",
          "text": [
            ">lr 0.928 (0.034)\n",
            ">knn 0.954 (0.028)\n",
            ">Tree 0.942 (0.026)\n",
            ">nb 0.749 (0.055)\n",
            ">svm 0.904 (0.033)\n"
          ]
        }
      ],
      "source": [
        "models = get_models()\n",
        "\n",
        "results, names = [], []\n",
        "\n",
        "for name, model in models:\n",
        "  scores = evaluate_model(model, X_train, y_train)\n",
        "  results.append(scores)\n",
        "  names.append(name)\n",
        "  print('>%s %.3f (%.3f)' % (name, mean(scores), std(scores)))"
      ]
    },
    {
      "cell_type": "markdown",
      "metadata": {
        "id": "qw4mEkCHKxLq"
      },
      "source": [
        "- KNN (0.95) and Tree (0.94) are the models with the best average performance. Not only do they have the highest mean scores, but they also demonstrate high stability (low deviation).\n",
        "\n",
        "- SVM (0.90) and LR (0.93) show good performance as well, though slightly lower.\n",
        "\n",
        "- NB (0.75) has a considerably lower average performance and is also the most inconsistent model, showing greater variability across folds."
      ]
    },
    {
      "cell_type": "markdown",
      "metadata": {
        "id": "qX7HNQMY_b2c"
      },
      "source": [
        "A reference set that includes all the models must be defined. This will serve as a basis for comparing the different growth and pruning methods."
      ]
    },
    {
      "cell_type": "markdown",
      "metadata": {
        "id": "OTkS68tn_sHL"
      },
      "source": [
        "A voting ensemble with soft voting will be used. This means that each model will predict probabilities, and the ensemble model will sum them to produce a final output prediction for each input sample."
      ]
    },
    {
      "cell_type": "code",
      "execution_count": 128,
      "metadata": {
        "id": "aUgwc3Dd-8Cj"
      },
      "outputs": [],
      "source": [
        "ensemble = VotingClassifier(estimators=models, voting='soft')"
      ]
    },
    {
      "cell_type": "code",
      "execution_count": 129,
      "metadata": {
        "colab": {
          "base_uri": "https://localhost:8080/"
        },
        "id": "lgFSrSBhAQGj",
        "outputId": "1cecc9ef-c658-4b03-816a-a9e6badbff0f"
      },
      "outputs": [
        {
          "name": "stdout",
          "output_type": "stream",
          "text": [
            "Mean f1: 0.961 (0.028)\n"
          ]
        }
      ],
      "source": [
        "scores = evaluate_model(ensemble, X_train, y_train)\n",
        "print('Mean f1: %.3f (%.3f)' % (mean(scores), std(scores)))"
      ]
    },
    {
      "cell_type": "markdown",
      "metadata": {
        "id": "eN3L1WW0MuV_"
      },
      "source": [
        "The ensemble slightly improves the average compared to KNN and Tree, while maintaining a low (consistent) standard deviation"
      ]
    },
    {
      "cell_type": "code",
      "execution_count": 130,
      "metadata": {
        "id": "LfJLOYHEMLlK"
      },
      "outputs": [],
      "source": [
        "results = results+[scores]\n",
        "names = names+['VotingClassifier']"
      ]
    },
    {
      "cell_type": "code",
      "execution_count": 131,
      "metadata": {
        "colab": {
          "base_uri": "https://localhost:8080/",
          "height": 457
        },
        "id": "OUegcsn2LnSr",
        "outputId": "707bd1a2-3db6-4f5b-f635-a25c8e483537"
      },
      "outputs": [
        {
          "data": {
            "image/png": "[encoded data removed]",
            "text/plain": [
              "<Figure size 640x480 with 1 Axes>"
            ]
          },
          "metadata": {},
          "output_type": "display_data"
        }
      ],
      "source": [
        "fig, ax = plt.subplots()\n",
        "ax.boxplot(results, labels=names, showmeans=True)\n",
        "ax.set_title(\"Model performance\")\n",
        "plt.show()"
      ]
    },
    {
      "cell_type": "markdown",
      "metadata": {
        "id": "rOYG9SsAPefc"
      },
      "source": [
        "Although the KNN and Tree models have the best performance, it is evident that the ensemble voting models show high performance with low variability compared to the other individual models. Therefore, it can be said that the ensemble models improve their performance. However, there is also a possibility of overfitting."
      ]
    },
    {
      "cell_type": "markdown",
      "metadata": {
        "id": "sI6V6LCFNed8"
      },
      "source": [
        "# **Ensemble Pruning**\n",
        "\n",
        "---\n",
        "\n"
      ]
    },
    {
      "cell_type": "markdown",
      "metadata": {
        "id": "2Srbxa8_OL91"
      },
      "source": [
        "A greedy algorithm will be used,this involves removing one member from the ensemble at a time, evaluating performance, and repeating the process for each member. The member whose removal results in the greatest improvement in performance is permanently excluded from the ensemble. This process is repeated until no further improvements can be achieved"
      ]
    },
    {
      "cell_type": "markdown",
      "metadata": {
        "id": "A0Ue7Lva53sY"
      },
      "source": [
        "Evaluate the models for pruning"
      ]
    },
    {
      "cell_type": "code",
      "execution_count": 132,
      "metadata": {
        "id": "nfZwlXl8MwAz"
      },
      "outputs": [],
      "source": [
        "def evaluate_ensemble(modelsPruning, X_train, y_train):\n",
        "  if len(modelsPruning) == 0:\n",
        "    return 0\n",
        "  ensemble = VotingClassifier(estimators=modelsPruning, voting='soft')\n",
        "  cv = RepeatedStratifiedKFold(n_splits=10, n_repeats=3, random_state=random_seed)\n",
        "  score = cross_val_score(ensemble, X, y, scoring='f1_micro', cv=cv, n_jobs=-1)\n",
        "  return mean(score)"
      ]
    },
    {
      "cell_type": "markdown",
      "metadata": {
        "id": "yKX5rE2e6Is1"
      },
      "source": [
        "Based on the evaluation, determine which model should be discarded from the ensemble model."
      ]
    },
    {
      "cell_type": "code",
      "execution_count": 133,
      "metadata": {
        "id": "V6ER77znbacx"
      },
      "outputs": [],
      "source": [
        "def prune_round(models, X, y):\n",
        "  baseline = evaluate_ensemble(models, X, y)\n",
        "  best_score, remove = baseline, None\n",
        "  for model in models:\n",
        "    modelsCopy = models.copy()\n",
        "    modelsCopy.remove(model)\n",
        "    scoreP = evaluate_ensemble(modelsCopy, X, y)\n",
        "    if scoreP > best_score:\n",
        "      best_score, remove = scoreP, model\n",
        "  return best_score, remove"
      ]
    },
    {
      "cell_type": "markdown",
      "metadata": {
        "id": "dOn_bDW16a0L"
      },
      "source": [
        "Remove the models whose presence in the ensemble does not contribute to an improvement.\n"
      ]
    },
    {
      "cell_type": "code",
      "execution_count": 134,
      "metadata": {
        "id": "XETIaJztcpEp"
      },
      "outputs": [],
      "source": [
        "def prune_ensemble(models, X, y):\n",
        "  best_score = 0\n",
        "  noBreak = True\n",
        "  while noBreak:\n",
        "    score, removeModel= prune_round(models, X, y)\n",
        "    if removeModel != None:\n",
        "      models.remove(removeModel)\n",
        "      if score > best_score:\n",
        "        best_score = score\n",
        "      print('>%.3f (removed: %s)' % (score, removeModel))\n",
        "    else:\n",
        "      noBreak = False\n",
        "\n",
        "  return best_score, models\n"
      ]
    },
    {
      "cell_type": "code",
      "execution_count": 135,
      "metadata": {
        "colab": {
          "base_uri": "https://localhost:8080/"
        },
        "id": "b0xAESxEdPu4",
        "outputId": "9bb3b00c-0ea2-4085-a7f8-a798a1d626e0"
      },
      "outputs": [
        {
          "name": "stdout",
          "output_type": "stream",
          "text": [
            ">0.942 (removed: ('nb', GaussianNB()))\n",
            ">0.943 (removed: ('svm', SVC(probability=True, random_state=12354)))\n",
            ">0.944 (removed: ('lr', LogisticRegression(random_state=12354)))\n"
          ]
        }
      ],
      "source": [
        "models = get_models()\n",
        "score, model_list = prune_ensemble(models, X_train, y_train)"
      ]
    },
    {
      "cell_type": "code",
      "execution_count": 136,
      "metadata": {
        "colab": {
          "base_uri": "https://localhost:8080/",
          "height": 36
        },
        "id": "pwbUbpzX7pTO",
        "outputId": "7fffcfb1-c60d-48d1-a209-60c2a0529f24"
      },
      "outputs": [
        {
          "data": {
            "application/vnd.google.colaboratory.intrinsic+json": {
              "type": "string"
            },
            "text/plain": [
              "'knn,Tree'"
            ]
          },
          "execution_count": 136,
          "metadata": {},
          "output_type": "execute_result"
        }
      ],
      "source": [
        "names = ','.join([m for m ,_ in model_list])\n",
        "names"
      ]
    },
    {
      "cell_type": "markdown",
      "metadata": {
        "id": "YT59MMEh8b5c"
      },
      "source": [
        "It can be observed that three pruning rounds were carried out, eliminating the Naive Bayes, Support Vector Machine, and Logistic Regression algorithms, leaving only the Decision Tree and KNN algorithms, which achieved an average F1 score of approximately 94%."
      ]
    },
    {
      "cell_type": "code",
      "execution_count": 137,
      "metadata": {
        "colab": {
          "base_uri": "https://localhost:8080/"
        },
        "id": "mGezHEDo7zWd",
        "outputId": "4624474f-dea4-48a3-9496-6865f8c8b759"
      },
      "outputs": [
        {
          "name": "stdout",
          "output_type": "stream",
          "text": [
            "Models: knn,Tree\n",
            "Final Mean F1 score: 0.944\n"
          ]
        }
      ],
      "source": [
        "print('Models: %s' % names)\n",
        "print('Final Mean F1 score: %.3f' % score)"
      ]
    },
    {
      "cell_type": "markdown",
      "metadata": {},
      "source": [
        "# **Info**\n",
        "---\n",
        "**@By:** Kaiziferr\n",
        "\n",
        "**@Git:** https://github.com/Kaiziferr"
      ]
    }
  ],
  "metadata": {
    "colab": {
      "provenance": []
    },
    "kernelspec": {
      "display_name": "Python 3",
      "name": "python3"
    },
    "language_info": {
      "name": "python"
    }
  },
  "nbformat": 4,
  "nbformat_minor": 0
}
