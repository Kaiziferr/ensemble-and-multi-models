{
  "nbformat": 4,
  "nbformat_minor": 0,
  "metadata": {
    "colab": {
      "provenance": []
    },
    "kernelspec": {
      "name": "python3",
      "display_name": "Python 3"
    },
    "language_info": {
      "name": "python"
    }
  },
  "cells": [
    {
      "cell_type": "code",
      "execution_count": 17,
      "metadata": {
        "id": "Kl1reNdnWIo4"
      },
      "outputs": [],
      "source": [
        "import warnings\n",
        "\n",
        "import pandas as pd\n",
        "import numpy as np\n",
        "\n",
        "import matplotlib.pyplot as plt\n",
        "\n",
        "from sklearn.datasets import make_regression\n",
        "\n",
        "from sklearn.multioutput import MultiOutputRegressor\n",
        "\n",
        "from sklearn.svm import LinearSVR\n",
        "\n",
        "from sklearn.model_selection import (\n",
        "    train_test_split,\n",
        "    RepeatedKFold,\n",
        "    cross_val_score)\n",
        "\n",
        "from sklearn.metrics import mean_absolute_error\n",
        "\n"
      ]
    },
    {
      "cell_type": "markdown",
      "source": [
        "The objective of this notebook is to demonstrate a wrapper that allows fitting a regression model with two or more outputs., which cannot inherently perform the fitting\n"
      ],
      "metadata": {
        "id": "TojR9LOxvkgV"
      }
    },
    {
      "cell_type": "markdown",
      "source": [
        "# **Info**\n",
        "---"
      ],
      "metadata": {
        "id": "_xS7-Cl1q-2x"
      }
    },
    {
      "cell_type": "markdown",
      "source": [
        "**@By:** Kaiziferr\n",
        "\n",
        "**@Git:** https://github.com/Kaiziferr"
      ],
      "metadata": {
        "id": "NDWp_vB2rBGg"
      }
    },
    {
      "cell_type": "markdown",
      "source": [
        "# **Config**\n",
        "\n",
        "---\n",
        "\n"
      ],
      "metadata": {
        "id": "rb-c2LorrEeR"
      }
    },
    {
      "cell_type": "code",
      "source": [
        "plt.style.use('ggplot')\n",
        "random_seed = 12354\n",
        "warnings.filterwarnings('ignore')"
      ],
      "metadata": {
        "id": "LAZ6vMX_gMNV"
      },
      "execution_count": 18,
      "outputs": []
    },
    {
      "cell_type": "markdown",
      "source": [
        "# **Data**\n",
        "---\n",
        "\n"
      ],
      "metadata": {
        "id": "zhd8JKIKrH7g"
      }
    },
    {
      "cell_type": "markdown",
      "source": [
        "A synthetic dataset of 1500 records is generated, with 10 features, 6 of which are informative, an error noise of 0.75, and two outputs."
      ],
      "metadata": {
        "id": "xeejvfCUrmpA"
      }
    },
    {
      "cell_type": "code",
      "source": [
        "X, y = make_regression(\n",
        "    n_samples=1500,\n",
        "    n_features=10,\n",
        "    n_informative=6,\n",
        "    n_targets=2,\n",
        "    random_state = random_seed,\n",
        "    noise=0.75)"
      ],
      "metadata": {
        "id": "E3RPKCkNf_5d"
      },
      "execution_count": 19,
      "outputs": []
    },
    {
      "cell_type": "markdown",
      "source": [
        "A data frame is created."
      ],
      "metadata": {
        "id": "wFoig7XGrvSB"
      }
    },
    {
      "cell_type": "code",
      "source": [
        "data = pd.DataFrame(\n",
        "    np.concatenate(\n",
        "        (X, y.reshape(-1, 2)),\n",
        "        axis=1), columns=[\n",
        "            f'X{i}' for i in range(1, 11)] + [f'y{i}' for i in range(1, 3)]).head()\n",
        "data.head()"
      ],
      "metadata": {
        "id": "cAzU4bNblp7u",
        "colab": {
          "base_uri": "https://localhost:8080/",
          "height": 206
        },
        "outputId": "e908aa3b-5d8c-42a2-a613-d7bcede73b37"
      },
      "execution_count": 20,
      "outputs": [
        {
          "output_type": "execute_result",
          "data": {
            "text/plain": [
              "         X1        X2        X3        X4        X5        X6        X7  \\\n",
              "0  1.346289 -1.065927  1.908840  1.106275 -1.287102 -0.578371  0.254330   \n",
              "1 -1.310131 -1.758383  0.619499 -0.434613  0.704398 -0.536541 -0.816816   \n",
              "2  0.924924 -0.632634 -0.685409 -0.069438 -1.690132  0.129748 -1.006345   \n",
              "3  0.549514 -0.447932  0.306150 -2.049563 -1.272985  0.661454 -0.179638   \n",
              "4  2.427584  1.248808  0.029690 -0.300321 -1.026519  0.067276 -0.625563   \n",
              "\n",
              "         X8        X9       X10          y1          y2  \n",
              "0 -0.234749  0.455759 -0.326307   12.098270  -51.438046  \n",
              "1  0.086069 -0.272814  0.663045 -104.395994 -225.381916  \n",
              "2 -0.610594  0.048564  1.227449   15.690527 -105.688188  \n",
              "3 -0.152771 -0.781228 -0.513632  -63.538937  -15.236932  \n",
              "4  1.735031  1.272868 -2.475800   12.372237   55.072781  "
            ],
            "text/html": [
              "\n",
              "  <div id=\"df-4f67b9bd-1de6-4b31-a01d-002f704629dd\" class=\"colab-df-container\">\n",
              "    <div>\n",
              "<style scoped>\n",
              "    .dataframe tbody tr th:only-of-type {\n",
              "        vertical-align: middle;\n",
              "    }\n",
              "\n",
              "    .dataframe tbody tr th {\n",
              "        vertical-align: top;\n",
              "    }\n",
              "\n",
              "    .dataframe thead th {\n",
              "        text-align: right;\n",
              "    }\n",
              "</style>\n",
              "<table border=\"1\" class=\"dataframe\">\n",
              "  <thead>\n",
              "    <tr style=\"text-align: right;\">\n",
              "      <th></th>\n",
              "      <th>X1</th>\n",
              "      <th>X2</th>\n",
              "      <th>X3</th>\n",
              "      <th>X4</th>\n",
              "      <th>X5</th>\n",
              "      <th>X6</th>\n",
              "      <th>X7</th>\n",
              "      <th>X8</th>\n",
              "      <th>X9</th>\n",
              "      <th>X10</th>\n",
              "      <th>y1</th>\n",
              "      <th>y2</th>\n",
              "    </tr>\n",
              "  </thead>\n",
              "  <tbody>\n",
              "    <tr>\n",
              "      <th>0</th>\n",
              "      <td>1.346289</td>\n",
              "      <td>-1.065927</td>\n",
              "      <td>1.908840</td>\n",
              "      <td>1.106275</td>\n",
              "      <td>-1.287102</td>\n",
              "      <td>-0.578371</td>\n",
              "      <td>0.254330</td>\n",
              "      <td>-0.234749</td>\n",
              "      <td>0.455759</td>\n",
              "      <td>-0.326307</td>\n",
              "      <td>12.098270</td>\n",
              "      <td>-51.438046</td>\n",
              "    </tr>\n",
              "    <tr>\n",
              "      <th>1</th>\n",
              "      <td>-1.310131</td>\n",
              "      <td>-1.758383</td>\n",
              "      <td>0.619499</td>\n",
              "      <td>-0.434613</td>\n",
              "      <td>0.704398</td>\n",
              "      <td>-0.536541</td>\n",
              "      <td>-0.816816</td>\n",
              "      <td>0.086069</td>\n",
              "      <td>-0.272814</td>\n",
              "      <td>0.663045</td>\n",
              "      <td>-104.395994</td>\n",
              "      <td>-225.381916</td>\n",
              "    </tr>\n",
              "    <tr>\n",
              "      <th>2</th>\n",
              "      <td>0.924924</td>\n",
              "      <td>-0.632634</td>\n",
              "      <td>-0.685409</td>\n",
              "      <td>-0.069438</td>\n",
              "      <td>-1.690132</td>\n",
              "      <td>0.129748</td>\n",
              "      <td>-1.006345</td>\n",
              "      <td>-0.610594</td>\n",
              "      <td>0.048564</td>\n",
              "      <td>1.227449</td>\n",
              "      <td>15.690527</td>\n",
              "      <td>-105.688188</td>\n",
              "    </tr>\n",
              "    <tr>\n",
              "      <th>3</th>\n",
              "      <td>0.549514</td>\n",
              "      <td>-0.447932</td>\n",
              "      <td>0.306150</td>\n",
              "      <td>-2.049563</td>\n",
              "      <td>-1.272985</td>\n",
              "      <td>0.661454</td>\n",
              "      <td>-0.179638</td>\n",
              "      <td>-0.152771</td>\n",
              "      <td>-0.781228</td>\n",
              "      <td>-0.513632</td>\n",
              "      <td>-63.538937</td>\n",
              "      <td>-15.236932</td>\n",
              "    </tr>\n",
              "    <tr>\n",
              "      <th>4</th>\n",
              "      <td>2.427584</td>\n",
              "      <td>1.248808</td>\n",
              "      <td>0.029690</td>\n",
              "      <td>-0.300321</td>\n",
              "      <td>-1.026519</td>\n",
              "      <td>0.067276</td>\n",
              "      <td>-0.625563</td>\n",
              "      <td>1.735031</td>\n",
              "      <td>1.272868</td>\n",
              "      <td>-2.475800</td>\n",
              "      <td>12.372237</td>\n",
              "      <td>55.072781</td>\n",
              "    </tr>\n",
              "  </tbody>\n",
              "</table>\n",
              "</div>\n",
              "    <div class=\"colab-df-buttons\">\n",
              "\n",
              "  <div class=\"colab-df-container\">\n",
              "    <button class=\"colab-df-convert\" onclick=\"convertToInteractive('df-4f67b9bd-1de6-4b31-a01d-002f704629dd')\"\n",
              "            title=\"Convert this dataframe to an interactive table.\"\n",
              "            style=\"display:none;\">\n",
              "\n",
              "  <svg xmlns=\"http://www.w3.org/2000/svg\" height=\"24px\" viewBox=\"0 -960 960 960\">\n",
              "    <path d=\"M120-120v-720h720v720H120Zm60-500h600v-160H180v160Zm220 220h160v-160H400v160Zm0 220h160v-160H400v160ZM180-400h160v-160H180v160Zm440 0h160v-160H620v160ZM180-180h160v-160H180v160Zm440 0h160v-160H620v160Z\"/>\n",
              "  </svg>\n",
              "    </button>\n",
              "\n",
              "  <style>\n",
              "    .colab-df-container {\n",
              "      display:flex;\n",
              "      gap: 12px;\n",
              "    }\n",
              "\n",
              "    .colab-df-convert {\n",
              "      background-color: #E8F0FE;\n",
              "      border: none;\n",
              "      border-radius: 50%;\n",
              "      cursor: pointer;\n",
              "      display: none;\n",
              "      fill: #1967D2;\n",
              "      height: 32px;\n",
              "      padding: 0 0 0 0;\n",
              "      width: 32px;\n",
              "    }\n",
              "\n",
              "    .colab-df-convert:hover {\n",
              "      background-color: #E2EBFA;\n",
              "      box-shadow: 0px 1px 2px rgba(60, 64, 67, 0.3), 0px 1px 3px 1px rgba(60, 64, 67, 0.15);\n",
              "      fill: #174EA6;\n",
              "    }\n",
              "\n",
              "    .colab-df-buttons div {\n",
              "      margin-bottom: 4px;\n",
              "    }\n",
              "\n",
              "    [theme=dark] .colab-df-convert {\n",
              "      background-color: #3B4455;\n",
              "      fill: #D2E3FC;\n",
              "    }\n",
              "\n",
              "    [theme=dark] .colab-df-convert:hover {\n",
              "      background-color: #434B5C;\n",
              "      box-shadow: 0px 1px 3px 1px rgba(0, 0, 0, 0.15);\n",
              "      filter: drop-shadow(0px 1px 2px rgba(0, 0, 0, 0.3));\n",
              "      fill: #FFFFFF;\n",
              "    }\n",
              "  </style>\n",
              "\n",
              "    <script>\n",
              "      const buttonEl =\n",
              "        document.querySelector('#df-4f67b9bd-1de6-4b31-a01d-002f704629dd button.colab-df-convert');\n",
              "      buttonEl.style.display =\n",
              "        google.colab.kernel.accessAllowed ? 'block' : 'none';\n",
              "\n",
              "      async function convertToInteractive(key) {\n",
              "        const element = document.querySelector('#df-4f67b9bd-1de6-4b31-a01d-002f704629dd');\n",
              "        const dataTable =\n",
              "          await google.colab.kernel.invokeFunction('convertToInteractive',\n",
              "                                                    [key], {});\n",
              "        if (!dataTable) return;\n",
              "\n",
              "        const docLinkHtml = 'Like what you see? Visit the ' +\n",
              "          '<a target=\"_blank\" href=https://colab.research.google.com/notebooks/data_table.ipynb>data table notebook</a>'\n",
              "          + ' to learn more about interactive tables.';\n",
              "        element.innerHTML = '';\n",
              "        dataTable['output_type'] = 'display_data';\n",
              "        await google.colab.output.renderOutput(dataTable, element);\n",
              "        const docLink = document.createElement('div');\n",
              "        docLink.innerHTML = docLinkHtml;\n",
              "        element.appendChild(docLink);\n",
              "      }\n",
              "    </script>\n",
              "  </div>\n",
              "\n",
              "\n",
              "    <div id=\"df-a710a869-834d-4ed2-8520-6ce5cc1dd7fa\">\n",
              "      <button class=\"colab-df-quickchart\" onclick=\"quickchart('df-a710a869-834d-4ed2-8520-6ce5cc1dd7fa')\"\n",
              "                title=\"Suggest charts\"\n",
              "                style=\"display:none;\">\n",
              "\n",
              "<svg xmlns=\"http://www.w3.org/2000/svg\" height=\"24px\"viewBox=\"0 0 24 24\"\n",
              "     width=\"24px\">\n",
              "    <g>\n",
              "        <path d=\"M19 3H5c-1.1 0-2 .9-2 2v14c0 1.1.9 2 2 2h14c1.1 0 2-.9 2-2V5c0-1.1-.9-2-2-2zM9 17H7v-7h2v7zm4 0h-2V7h2v10zm4 0h-2v-4h2v4z\"/>\n",
              "    </g>\n",
              "</svg>\n",
              "      </button>\n",
              "\n",
              "<style>\n",
              "  .colab-df-quickchart {\n",
              "      --bg-color: #E8F0FE;\n",
              "      --fill-color: #1967D2;\n",
              "      --hover-bg-color: #E2EBFA;\n",
              "      --hover-fill-color: #174EA6;\n",
              "      --disabled-fill-color: #AAA;\n",
              "      --disabled-bg-color: #DDD;\n",
              "  }\n",
              "\n",
              "  [theme=dark] .colab-df-quickchart {\n",
              "      --bg-color: #3B4455;\n",
              "      --fill-color: #D2E3FC;\n",
              "      --hover-bg-color: #434B5C;\n",
              "      --hover-fill-color: #FFFFFF;\n",
              "      --disabled-bg-color: #3B4455;\n",
              "      --disabled-fill-color: #666;\n",
              "  }\n",
              "\n",
              "  .colab-df-quickchart {\n",
              "    background-color: var(--bg-color);\n",
              "    border: none;\n",
              "    border-radius: 50%;\n",
              "    cursor: pointer;\n",
              "    display: none;\n",
              "    fill: var(--fill-color);\n",
              "    height: 32px;\n",
              "    padding: 0;\n",
              "    width: 32px;\n",
              "  }\n",
              "\n",
              "  .colab-df-quickchart:hover {\n",
              "    background-color: var(--hover-bg-color);\n",
              "    box-shadow: 0 1px 2px rgba(60, 64, 67, 0.3), 0 1px 3px 1px rgba(60, 64, 67, 0.15);\n",
              "    fill: var(--button-hover-fill-color);\n",
              "  }\n",
              "\n",
              "  .colab-df-quickchart-complete:disabled,\n",
              "  .colab-df-quickchart-complete:disabled:hover {\n",
              "    background-color: var(--disabled-bg-color);\n",
              "    fill: var(--disabled-fill-color);\n",
              "    box-shadow: none;\n",
              "  }\n",
              "\n",
              "  .colab-df-spinner {\n",
              "    border: 2px solid var(--fill-color);\n",
              "    border-color: transparent;\n",
              "    border-bottom-color: var(--fill-color);\n",
              "    animation:\n",
              "      spin 1s steps(1) infinite;\n",
              "  }\n",
              "\n",
              "  @keyframes spin {\n",
              "    0% {\n",
              "      border-color: transparent;\n",
              "      border-bottom-color: var(--fill-color);\n",
              "      border-left-color: var(--fill-color);\n",
              "    }\n",
              "    20% {\n",
              "      border-color: transparent;\n",
              "      border-left-color: var(--fill-color);\n",
              "      border-top-color: var(--fill-color);\n",
              "    }\n",
              "    30% {\n",
              "      border-color: transparent;\n",
              "      border-left-color: var(--fill-color);\n",
              "      border-top-color: var(--fill-color);\n",
              "      border-right-color: var(--fill-color);\n",
              "    }\n",
              "    40% {\n",
              "      border-color: transparent;\n",
              "      border-right-color: var(--fill-color);\n",
              "      border-top-color: var(--fill-color);\n",
              "    }\n",
              "    60% {\n",
              "      border-color: transparent;\n",
              "      border-right-color: var(--fill-color);\n",
              "    }\n",
              "    80% {\n",
              "      border-color: transparent;\n",
              "      border-right-color: var(--fill-color);\n",
              "      border-bottom-color: var(--fill-color);\n",
              "    }\n",
              "    90% {\n",
              "      border-color: transparent;\n",
              "      border-bottom-color: var(--fill-color);\n",
              "    }\n",
              "  }\n",
              "</style>\n",
              "\n",
              "      <script>\n",
              "        async function quickchart(key) {\n",
              "          const quickchartButtonEl =\n",
              "            document.querySelector('#' + key + ' button');\n",
              "          quickchartButtonEl.disabled = true;  // To prevent multiple clicks.\n",
              "          quickchartButtonEl.classList.add('colab-df-spinner');\n",
              "          try {\n",
              "            const charts = await google.colab.kernel.invokeFunction(\n",
              "                'suggestCharts', [key], {});\n",
              "          } catch (error) {\n",
              "            console.error('Error during call to suggestCharts:', error);\n",
              "          }\n",
              "          quickchartButtonEl.classList.remove('colab-df-spinner');\n",
              "          quickchartButtonEl.classList.add('colab-df-quickchart-complete');\n",
              "        }\n",
              "        (() => {\n",
              "          let quickchartButtonEl =\n",
              "            document.querySelector('#df-a710a869-834d-4ed2-8520-6ce5cc1dd7fa button');\n",
              "          quickchartButtonEl.style.display =\n",
              "            google.colab.kernel.accessAllowed ? 'block' : 'none';\n",
              "        })();\n",
              "      </script>\n",
              "    </div>\n",
              "\n",
              "    </div>\n",
              "  </div>\n"
            ],
            "application/vnd.google.colaboratory.intrinsic+json": {
              "type": "dataframe",
              "variable_name": "data",
              "summary": "{\n  \"name\": \"data\",\n  \"rows\": 5,\n  \"fields\": [\n    {\n      \"column\": \"X1\",\n      \"properties\": {\n        \"dtype\": \"number\",\n        \"std\": 1.367268981444995,\n        \"min\": -1.3101307580871175,\n        \"max\": 2.427584121726499,\n        \"num_unique_values\": 5,\n        \"samples\": [\n          -1.3101307580871175,\n          2.427584121726499,\n          0.924923877228198\n        ],\n        \"semantic_type\": \"\",\n        \"description\": \"\"\n      }\n    },\n    {\n      \"column\": \"X2\",\n      \"properties\": {\n        \"dtype\": \"number\",\n        \"std\": 1.115522502323173,\n        \"min\": -1.7583831012775177,\n        \"max\": 1.248807785804083,\n        \"num_unique_values\": 5,\n        \"samples\": [\n          -1.7583831012775177,\n          1.248807785804083,\n          -0.6326336767528677\n        ],\n        \"semantic_type\": \"\",\n        \"description\": \"\"\n      }\n    },\n    {\n      \"column\": \"X3\",\n      \"properties\": {\n        \"dtype\": \"number\",\n        \"std\": 0.9542582684481313,\n        \"min\": -0.6854088477657713,\n        \"max\": 1.9088398378031115,\n        \"num_unique_values\": 5,\n        \"samples\": [\n          0.6194990254525101,\n          0.029690156268162293,\n          -0.6854088477657713\n        ],\n        \"semantic_type\": \"\",\n        \"description\": \"\"\n      }\n    },\n    {\n      \"column\": \"X4\",\n      \"properties\": {\n        \"dtype\": \"number\",\n        \"std\": 1.1288925573261361,\n        \"min\": -2.0495631913130916,\n        \"max\": 1.1062752208154532,\n        \"num_unique_values\": 5,\n        \"samples\": [\n          -0.4346131119606251,\n          -0.30032132491113034,\n          -0.06943840461709198\n        ],\n        \"semantic_type\": \"\",\n        \"description\": \"\"\n      }\n    },\n    {\n      \"column\": \"X5\",\n      \"properties\": {\n        \"dtype\": \"number\",\n        \"std\": 0.935725578892229,\n        \"min\": -1.690132292564553,\n        \"max\": 0.7043984029257417,\n        \"num_unique_values\": 5,\n        \"samples\": [\n          0.7043984029257417,\n          -1.0265187166825143,\n          -1.690132292564553\n        ],\n        \"semantic_type\": \"\",\n        \"description\": \"\"\n      }\n    },\n    {\n      \"column\": \"X6\",\n      \"properties\": {\n        \"dtype\": \"number\",\n        \"std\": 0.5167493891029463,\n        \"min\": -0.5783709045754617,\n        \"max\": 0.6614539513778519,\n        \"num_unique_values\": 5,\n        \"samples\": [\n          -0.5365413712930214,\n          0.06727644786061676,\n          0.12974758866214392\n        ],\n        \"semantic_type\": \"\",\n        \"description\": \"\"\n      }\n    },\n    {\n      \"column\": \"X7\",\n      \"properties\": {\n        \"dtype\": \"number\",\n        \"std\": 0.5101461677965058,\n        \"min\": -1.006345441658632,\n        \"max\": 0.2543299743377246,\n        \"num_unique_values\": 5,\n        \"samples\": [\n          -0.8168161774111948,\n          -0.6255630188144636,\n          -1.006345441658632\n        ],\n        \"semantic_type\": \"\",\n        \"description\": \"\"\n      }\n    },\n    {\n      \"column\": \"X8\",\n      \"properties\": {\n        \"dtype\": \"number\",\n        \"std\": 0.912900847699461,\n        \"min\": -0.6105940771363406,\n        \"max\": 1.7350313211810615,\n        \"num_unique_values\": 5,\n        \"samples\": [\n          0.0860688081946447,\n          1.7350313211810615,\n          -0.6105940771363406\n        ],\n        \"semantic_type\": \"\",\n        \"description\": \"\"\n      }\n    },\n    {\n      \"column\": \"X9\",\n      \"properties\": {\n        \"dtype\": \"number\",\n        \"std\": 0.776277086393301,\n        \"min\": -0.7812282825102588,\n        \"max\": 1.2728681113768558,\n        \"num_unique_values\": 5,\n        \"samples\": [\n          -0.27281390103362363,\n          1.2728681113768558,\n          0.0485639373292114\n        ],\n        \"semantic_type\": \"\",\n        \"description\": \"\"\n      }\n    },\n    {\n      \"column\": \"X10\",\n      \"properties\": {\n        \"dtype\": \"number\",\n        \"std\": 1.4177337390348281,\n        \"min\": -2.4758001604409503,\n        \"max\": 1.2274490547882928,\n        \"num_unique_values\": 5,\n        \"samples\": [\n          0.6630450409291468,\n          -2.4758001604409503,\n          1.2274490547882928\n        ],\n        \"semantic_type\": \"\",\n        \"description\": \"\"\n      }\n    },\n    {\n      \"column\": \"y1\",\n      \"properties\": {\n        \"dtype\": \"number\",\n        \"std\": 55.26327738770029,\n        \"min\": -104.3959939365047,\n        \"max\": 15.690526543329302,\n        \"num_unique_values\": 5,\n        \"samples\": [\n          -104.3959939365047,\n          12.37223696380877,\n          15.690526543329302\n        ],\n        \"semantic_type\": \"\",\n        \"description\": \"\"\n      }\n    },\n    {\n      \"column\": \"y2\",\n      \"properties\": {\n        \"dtype\": \"number\",\n        \"std\": 105.34845523619583,\n        \"min\": -225.38191645741574,\n        \"max\": 55.07278140228198,\n        \"num_unique_values\": 5,\n        \"samples\": [\n          -225.38191645741574,\n          55.07278140228198,\n          -105.68818816722565\n        ],\n        \"semantic_type\": \"\",\n        \"description\": \"\"\n      }\n    }\n  ]\n}"
            }
          },
          "metadata": {},
          "execution_count": 20
        }
      ]
    },
    {
      "cell_type": "markdown",
      "source": [
        "# **Split**\n",
        "---"
      ],
      "metadata": {
        "id": "hKt44SZdfiOd"
      }
    },
    {
      "cell_type": "code",
      "source": [
        "X_train, X_test, y_train, y_test = train_test_split(\n",
        "    X,\n",
        "    y,\n",
        "    random_state=random_seed,\n",
        "    test_size=0.2\n",
        ")"
      ],
      "metadata": {
        "id": "BjqWduPxfhkz"
      },
      "execution_count": 21,
      "outputs": []
    },
    {
      "cell_type": "markdown",
      "source": [
        "# **Model**\n",
        "---"
      ],
      "metadata": {
        "id": "akpE9whDLTlu"
      }
    },
    {
      "cell_type": "markdown",
      "source": [
        "Three support vector machine models are instantiated, which cannot perform fitting or prediction in problems with two or more outputs"
      ],
      "metadata": {
        "id": "g_jDFDKdaz5z"
      }
    },
    {
      "cell_type": "code",
      "source": [
        "modelA = LinearSVR(random_state=random_seed)\n",
        "modelB = LinearSVR(random_state=random_seed)\n",
        "modelC = LinearSVR(random_state=random_seed)"
      ],
      "metadata": {
        "id": "N2bly20Sa3ib"
      },
      "execution_count": 22,
      "outputs": []
    },
    {
      "cell_type": "markdown",
      "source": [
        "The fitting process is carried out, which generates an error, as support vector machines for regression can only perform fitting with a single output"
      ],
      "metadata": {
        "id": "vGJuhqiwbK-U"
      }
    },
    {
      "cell_type": "code",
      "source": [
        "try:\n",
        "  modelA.fit(X, y)\n",
        "except Exception as e:\n",
        "  print(e)"
      ],
      "metadata": {
        "colab": {
          "base_uri": "https://localhost:8080/"
        },
        "id": "ODbW0KBjLQHF",
        "outputId": "b0d40a12-dd9c-45cb-d5b2-411ca55d59e0"
      },
      "execution_count": 23,
      "outputs": [
        {
          "output_type": "stream",
          "name": "stdout",
          "text": [
            "y should be a 1d array, got an array of shape (1500, 2) instead.\n"
          ]
        }
      ]
    },
    {
      "cell_type": "markdown",
      "source": [
        "The MultiOutputRegressor wrapper from sklearn is instantiated, which allows fitting the same model instance for each output of the problem. In this case, it internally fits two SVMs for each output independently. For this reason, it is not advisable to use this method if there is dependency between the outputs.\""
      ],
      "metadata": {
        "id": "Bx_ku6VUbNKT"
      }
    },
    {
      "cell_type": "code",
      "source": [
        "wrapper = MultiOutputRegressor(modelA)"
      ],
      "metadata": {
        "id": "WR99-o6rLP_l"
      },
      "execution_count": 24,
      "outputs": []
    },
    {
      "cell_type": "markdown",
      "source": [
        "The performance is evaluated with 3 repetitions and 10 folds, using the MAE metric to validate the model's performance with the generated data. Since the data is synthetic, with measurement units of similar magnitude, standardization is not considered necessary."
      ],
      "metadata": {
        "id": "ujnF8bjEdJmL"
      }
    },
    {
      "cell_type": "code",
      "source": [
        "cv = RepeatedKFold(n_splits=10, n_repeats=3, random_state=random_seed)\n",
        "\n",
        "n_scores = cross_val_score(\n",
        "    wrapper,\n",
        "    X,\n",
        "    y,\n",
        "    scoring='neg_mean_absolute_error',\n",
        "    cv=cv,\n",
        "    n_jobs=-1,\n",
        ")"
      ],
      "metadata": {
        "id": "kmZf42o_LP8e"
      },
      "execution_count": 25,
      "outputs": []
    },
    {
      "cell_type": "markdown",
      "source": [
        "It has an error below 0.611, with a standard deviation of 0.22. It is necessary to validate with baseline models to determine how optimal the model is."
      ],
      "metadata": {
        "id": "djZhMDUfdmRT"
      }
    },
    {
      "cell_type": "code",
      "source": [
        "n_scores = np.absolute(n_scores)\n",
        "print('MAE: %.3f (%.3f)' % (np.mean(n_scores), np.std(n_scores)))"
      ],
      "metadata": {
        "colab": {
          "base_uri": "https://localhost:8080/"
        },
        "id": "uGXTY6A0dN56",
        "outputId": "dc006a59-0917-48a5-da52-e88b44c08005"
      },
      "execution_count": 26,
      "outputs": [
        {
          "output_type": "stream",
          "name": "stdout",
          "text": [
            "MAE: 0.611 (0.022)\n"
          ]
        }
      ]
    },
    {
      "cell_type": "code",
      "source": [
        "data_results = pd.DataFrame(X_test)"
      ],
      "metadata": {
        "id": "Xh9OqpmWiHVT"
      },
      "execution_count": 27,
      "outputs": []
    },
    {
      "cell_type": "markdown",
      "source": [
        "Wrapper model fitting"
      ],
      "metadata": {
        "id": "ZLAgrHifd0G7"
      }
    },
    {
      "cell_type": "code",
      "source": [
        "wrapper.fit(X_train, y_train)\n",
        "y_predict_wrapper = wrapper.predict(X_test)\n",
        "data_results['predict_wrapper_output_1'] = y_predict_wrapper[:,0]\n",
        "data_results['predict_wrapper_output_2'] = y_predict_wrapper[:,1]"
      ],
      "metadata": {
        "id": "1lbTnfn_SAdN"
      },
      "execution_count": 28,
      "outputs": []
    },
    {
      "cell_type": "markdown",
      "source": [
        "Two models are fitted with the same seed to validate the fitting of the wrapper model, to demonstrate that the wrapper model creates a second instance of the model, fitting each model independently with each output."
      ],
      "metadata": {
        "id": "9KNU8_T0edEq"
      }
    },
    {
      "cell_type": "markdown",
      "source": [
        "Fitting of the first model"
      ],
      "metadata": {
        "id": "auc8obZteicR"
      }
    },
    {
      "cell_type": "code",
      "source": [
        "modelB.fit(X_train, y_train[:, 0])\n",
        "y_predict_B = modelB.predict(X_test)\n",
        "data_results['predict_model_b'] = y_predict_B"
      ],
      "metadata": {
        "id": "tQT8WhNpPlLk"
      },
      "execution_count": 29,
      "outputs": []
    },
    {
      "cell_type": "markdown",
      "source": [
        "Fitting of the second model"
      ],
      "metadata": {
        "id": "GWJIrPi0ei7Z"
      }
    },
    {
      "cell_type": "code",
      "source": [
        "modelC.fit(X_train, y_train[:, 1])\n",
        "y_predict_C = modelC.predict(X_test)\n",
        "data_results['predict_model_c'] = y_predict_C"
      ],
      "metadata": {
        "id": "Lct9-h2SPlF0"
      },
      "execution_count": 30,
      "outputs": []
    },
    {
      "cell_type": "code",
      "source": [
        "data_results"
      ],
      "metadata": {
        "colab": {
          "base_uri": "https://localhost:8080/",
          "height": 423
        },
        "id": "05y4vnZZmqh1",
        "outputId": "54edea33-9fad-4cbc-c6aa-037268717d87"
      },
      "execution_count": 31,
      "outputs": [
        {
          "output_type": "execute_result",
          "data": {
            "text/plain": [
              "            0         1         2         3         4         5         6  \\\n",
              "0    0.598650  1.662646 -0.009399 -1.365592  0.563967  0.562587 -1.497401   \n",
              "1    0.885069  1.832476  1.426344 -1.475577  0.213101  0.181255 -1.594822   \n",
              "2   -1.017664 -0.042076  1.556161  0.387642 -0.184365  0.111102  0.714112   \n",
              "3   -1.401187  1.362455 -0.136258 -0.305641 -0.794530  1.081220 -1.192021   \n",
              "4    0.864372 -1.780043 -1.986367 -0.632876 -0.381204 -0.745019 -0.439773   \n",
              "..        ...       ...       ...       ...       ...       ...       ...   \n",
              "295  1.173615 -1.013315  0.064628  0.243252 -0.657884 -0.380854  0.761572   \n",
              "296 -0.282036  0.922947 -2.290448  0.378612  1.066916  1.361547 -0.547818   \n",
              "297  0.586693 -0.832403  0.505701 -1.511164  0.163632 -1.539200 -1.107070   \n",
              "298  1.123262 -0.547234 -0.204558 -0.438567  3.490339  0.496974  1.044451   \n",
              "299 -0.603895  0.461138 -0.099031  2.224580  0.189817  0.299285  0.889566   \n",
              "\n",
              "            7         8         9  predict_wrapper_output_1  \\\n",
              "0    0.729871 -1.537306  0.654108                -49.569469   \n",
              "1    1.158486 -0.871297  1.212205                 10.046949   \n",
              "2    1.315661  0.592366  0.678785                 70.107564   \n",
              "3   -0.372200  0.060008  1.364998                 30.401692   \n",
              "4   -0.662958 -0.948546  1.860774                -24.730492   \n",
              "..        ...       ...       ...                       ...   \n",
              "295 -0.625682 -1.800853 -0.410481                -81.086770   \n",
              "296  0.742398 -0.504308  0.886589                 25.448492   \n",
              "297  0.290583  0.900708  2.268320                 65.897922   \n",
              "298 -0.219593 -0.710378 -0.531740                  3.069322   \n",
              "299  0.061275  0.953632  1.262164                146.919552   \n",
              "\n",
              "     predict_wrapper_output_2  predict_model_b  predict_model_c  \n",
              "0                  -68.893649       -49.569469       -68.893649  \n",
              "1                  -70.112993        10.046949       -70.112993  \n",
              "2                   96.246989        70.107564        96.246989  \n",
              "3                   39.343725        30.401692        39.343725  \n",
              "4                 -210.559432       -24.730492      -210.559432  \n",
              "..                        ...              ...              ...  \n",
              "295                -69.778149       -81.086770       -69.778149  \n",
              "296                 85.567721        25.448492        85.567721  \n",
              "297               -221.208163        65.897922      -221.208163  \n",
              "298                 91.140152         3.069322        91.140152  \n",
              "299                173.320644       146.919552       173.320644  \n",
              "\n",
              "[300 rows x 14 columns]"
            ],
            "text/html": [
              "\n",
              "  <div id=\"df-6cf01c44-8297-4d52-8274-5d5b3804e2a4\" class=\"colab-df-container\">\n",
              "    <div>\n",
              "<style scoped>\n",
              "    .dataframe tbody tr th:only-of-type {\n",
              "        vertical-align: middle;\n",
              "    }\n",
              "\n",
              "    .dataframe tbody tr th {\n",
              "        vertical-align: top;\n",
              "    }\n",
              "\n",
              "    .dataframe thead th {\n",
              "        text-align: right;\n",
              "    }\n",
              "</style>\n",
              "<table border=\"1\" class=\"dataframe\">\n",
              "  <thead>\n",
              "    <tr style=\"text-align: right;\">\n",
              "      <th></th>\n",
              "      <th>0</th>\n",
              "      <th>1</th>\n",
              "      <th>2</th>\n",
              "      <th>3</th>\n",
              "      <th>4</th>\n",
              "      <th>5</th>\n",
              "      <th>6</th>\n",
              "      <th>7</th>\n",
              "      <th>8</th>\n",
              "      <th>9</th>\n",
              "      <th>predict_wrapper_output_1</th>\n",
              "      <th>predict_wrapper_output_2</th>\n",
              "      <th>predict_model_b</th>\n",
              "      <th>predict_model_c</th>\n",
              "    </tr>\n",
              "  </thead>\n",
              "  <tbody>\n",
              "    <tr>\n",
              "      <th>0</th>\n",
              "      <td>0.598650</td>\n",
              "      <td>1.662646</td>\n",
              "      <td>-0.009399</td>\n",
              "      <td>-1.365592</td>\n",
              "      <td>0.563967</td>\n",
              "      <td>0.562587</td>\n",
              "      <td>-1.497401</td>\n",
              "      <td>0.729871</td>\n",
              "      <td>-1.537306</td>\n",
              "      <td>0.654108</td>\n",
              "      <td>-49.569469</td>\n",
              "      <td>-68.893649</td>\n",
              "      <td>-49.569469</td>\n",
              "      <td>-68.893649</td>\n",
              "    </tr>\n",
              "    <tr>\n",
              "      <th>1</th>\n",
              "      <td>0.885069</td>\n",
              "      <td>1.832476</td>\n",
              "      <td>1.426344</td>\n",
              "      <td>-1.475577</td>\n",
              "      <td>0.213101</td>\n",
              "      <td>0.181255</td>\n",
              "      <td>-1.594822</td>\n",
              "      <td>1.158486</td>\n",
              "      <td>-0.871297</td>\n",
              "      <td>1.212205</td>\n",
              "      <td>10.046949</td>\n",
              "      <td>-70.112993</td>\n",
              "      <td>10.046949</td>\n",
              "      <td>-70.112993</td>\n",
              "    </tr>\n",
              "    <tr>\n",
              "      <th>2</th>\n",
              "      <td>-1.017664</td>\n",
              "      <td>-0.042076</td>\n",
              "      <td>1.556161</td>\n",
              "      <td>0.387642</td>\n",
              "      <td>-0.184365</td>\n",
              "      <td>0.111102</td>\n",
              "      <td>0.714112</td>\n",
              "      <td>1.315661</td>\n",
              "      <td>0.592366</td>\n",
              "      <td>0.678785</td>\n",
              "      <td>70.107564</td>\n",
              "      <td>96.246989</td>\n",
              "      <td>70.107564</td>\n",
              "      <td>96.246989</td>\n",
              "    </tr>\n",
              "    <tr>\n",
              "      <th>3</th>\n",
              "      <td>-1.401187</td>\n",
              "      <td>1.362455</td>\n",
              "      <td>-0.136258</td>\n",
              "      <td>-0.305641</td>\n",
              "      <td>-0.794530</td>\n",
              "      <td>1.081220</td>\n",
              "      <td>-1.192021</td>\n",
              "      <td>-0.372200</td>\n",
              "      <td>0.060008</td>\n",
              "      <td>1.364998</td>\n",
              "      <td>30.401692</td>\n",
              "      <td>39.343725</td>\n",
              "      <td>30.401692</td>\n",
              "      <td>39.343725</td>\n",
              "    </tr>\n",
              "    <tr>\n",
              "      <th>4</th>\n",
              "      <td>0.864372</td>\n",
              "      <td>-1.780043</td>\n",
              "      <td>-1.986367</td>\n",
              "      <td>-0.632876</td>\n",
              "      <td>-0.381204</td>\n",
              "      <td>-0.745019</td>\n",
              "      <td>-0.439773</td>\n",
              "      <td>-0.662958</td>\n",
              "      <td>-0.948546</td>\n",
              "      <td>1.860774</td>\n",
              "      <td>-24.730492</td>\n",
              "      <td>-210.559432</td>\n",
              "      <td>-24.730492</td>\n",
              "      <td>-210.559432</td>\n",
              "    </tr>\n",
              "    <tr>\n",
              "      <th>...</th>\n",
              "      <td>...</td>\n",
              "      <td>...</td>\n",
              "      <td>...</td>\n",
              "      <td>...</td>\n",
              "      <td>...</td>\n",
              "      <td>...</td>\n",
              "      <td>...</td>\n",
              "      <td>...</td>\n",
              "      <td>...</td>\n",
              "      <td>...</td>\n",
              "      <td>...</td>\n",
              "      <td>...</td>\n",
              "      <td>...</td>\n",
              "      <td>...</td>\n",
              "    </tr>\n",
              "    <tr>\n",
              "      <th>295</th>\n",
              "      <td>1.173615</td>\n",
              "      <td>-1.013315</td>\n",
              "      <td>0.064628</td>\n",
              "      <td>0.243252</td>\n",
              "      <td>-0.657884</td>\n",
              "      <td>-0.380854</td>\n",
              "      <td>0.761572</td>\n",
              "      <td>-0.625682</td>\n",
              "      <td>-1.800853</td>\n",
              "      <td>-0.410481</td>\n",
              "      <td>-81.086770</td>\n",
              "      <td>-69.778149</td>\n",
              "      <td>-81.086770</td>\n",
              "      <td>-69.778149</td>\n",
              "    </tr>\n",
              "    <tr>\n",
              "      <th>296</th>\n",
              "      <td>-0.282036</td>\n",
              "      <td>0.922947</td>\n",
              "      <td>-2.290448</td>\n",
              "      <td>0.378612</td>\n",
              "      <td>1.066916</td>\n",
              "      <td>1.361547</td>\n",
              "      <td>-0.547818</td>\n",
              "      <td>0.742398</td>\n",
              "      <td>-0.504308</td>\n",
              "      <td>0.886589</td>\n",
              "      <td>25.448492</td>\n",
              "      <td>85.567721</td>\n",
              "      <td>25.448492</td>\n",
              "      <td>85.567721</td>\n",
              "    </tr>\n",
              "    <tr>\n",
              "      <th>297</th>\n",
              "      <td>0.586693</td>\n",
              "      <td>-0.832403</td>\n",
              "      <td>0.505701</td>\n",
              "      <td>-1.511164</td>\n",
              "      <td>0.163632</td>\n",
              "      <td>-1.539200</td>\n",
              "      <td>-1.107070</td>\n",
              "      <td>0.290583</td>\n",
              "      <td>0.900708</td>\n",
              "      <td>2.268320</td>\n",
              "      <td>65.897922</td>\n",
              "      <td>-221.208163</td>\n",
              "      <td>65.897922</td>\n",
              "      <td>-221.208163</td>\n",
              "    </tr>\n",
              "    <tr>\n",
              "      <th>298</th>\n",
              "      <td>1.123262</td>\n",
              "      <td>-0.547234</td>\n",
              "      <td>-0.204558</td>\n",
              "      <td>-0.438567</td>\n",
              "      <td>3.490339</td>\n",
              "      <td>0.496974</td>\n",
              "      <td>1.044451</td>\n",
              "      <td>-0.219593</td>\n",
              "      <td>-0.710378</td>\n",
              "      <td>-0.531740</td>\n",
              "      <td>3.069322</td>\n",
              "      <td>91.140152</td>\n",
              "      <td>3.069322</td>\n",
              "      <td>91.140152</td>\n",
              "    </tr>\n",
              "    <tr>\n",
              "      <th>299</th>\n",
              "      <td>-0.603895</td>\n",
              "      <td>0.461138</td>\n",
              "      <td>-0.099031</td>\n",
              "      <td>2.224580</td>\n",
              "      <td>0.189817</td>\n",
              "      <td>0.299285</td>\n",
              "      <td>0.889566</td>\n",
              "      <td>0.061275</td>\n",
              "      <td>0.953632</td>\n",
              "      <td>1.262164</td>\n",
              "      <td>146.919552</td>\n",
              "      <td>173.320644</td>\n",
              "      <td>146.919552</td>\n",
              "      <td>173.320644</td>\n",
              "    </tr>\n",
              "  </tbody>\n",
              "</table>\n",
              "<p>300 rows × 14 columns</p>\n",
              "</div>\n",
              "    <div class=\"colab-df-buttons\">\n",
              "\n",
              "  <div class=\"colab-df-container\">\n",
              "    <button class=\"colab-df-convert\" onclick=\"convertToInteractive('df-6cf01c44-8297-4d52-8274-5d5b3804e2a4')\"\n",
              "            title=\"Convert this dataframe to an interactive table.\"\n",
              "            style=\"display:none;\">\n",
              "\n",
              "  <svg xmlns=\"http://www.w3.org/2000/svg\" height=\"24px\" viewBox=\"0 -960 960 960\">\n",
              "    <path d=\"M120-120v-720h720v720H120Zm60-500h600v-160H180v160Zm220 220h160v-160H400v160Zm0 220h160v-160H400v160ZM180-400h160v-160H180v160Zm440 0h160v-160H620v160ZM180-180h160v-160H180v160Zm440 0h160v-160H620v160Z\"/>\n",
              "  </svg>\n",
              "    </button>\n",
              "\n",
              "  <style>\n",
              "    .colab-df-container {\n",
              "      display:flex;\n",
              "      gap: 12px;\n",
              "    }\n",
              "\n",
              "    .colab-df-convert {\n",
              "      background-color: #E8F0FE;\n",
              "      border: none;\n",
              "      border-radius: 50%;\n",
              "      cursor: pointer;\n",
              "      display: none;\n",
              "      fill: #1967D2;\n",
              "      height: 32px;\n",
              "      padding: 0 0 0 0;\n",
              "      width: 32px;\n",
              "    }\n",
              "\n",
              "    .colab-df-convert:hover {\n",
              "      background-color: #E2EBFA;\n",
              "      box-shadow: 0px 1px 2px rgba(60, 64, 67, 0.3), 0px 1px 3px 1px rgba(60, 64, 67, 0.15);\n",
              "      fill: #174EA6;\n",
              "    }\n",
              "\n",
              "    .colab-df-buttons div {\n",
              "      margin-bottom: 4px;\n",
              "    }\n",
              "\n",
              "    [theme=dark] .colab-df-convert {\n",
              "      background-color: #3B4455;\n",
              "      fill: #D2E3FC;\n",
              "    }\n",
              "\n",
              "    [theme=dark] .colab-df-convert:hover {\n",
              "      background-color: #434B5C;\n",
              "      box-shadow: 0px 1px 3px 1px rgba(0, 0, 0, 0.15);\n",
              "      filter: drop-shadow(0px 1px 2px rgba(0, 0, 0, 0.3));\n",
              "      fill: #FFFFFF;\n",
              "    }\n",
              "  </style>\n",
              "\n",
              "    <script>\n",
              "      const buttonEl =\n",
              "        document.querySelector('#df-6cf01c44-8297-4d52-8274-5d5b3804e2a4 button.colab-df-convert');\n",
              "      buttonEl.style.display =\n",
              "        google.colab.kernel.accessAllowed ? 'block' : 'none';\n",
              "\n",
              "      async function convertToInteractive(key) {\n",
              "        const element = document.querySelector('#df-6cf01c44-8297-4d52-8274-5d5b3804e2a4');\n",
              "        const dataTable =\n",
              "          await google.colab.kernel.invokeFunction('convertToInteractive',\n",
              "                                                    [key], {});\n",
              "        if (!dataTable) return;\n",
              "\n",
              "        const docLinkHtml = 'Like what you see? Visit the ' +\n",
              "          '<a target=\"_blank\" href=https://colab.research.google.com/notebooks/data_table.ipynb>data table notebook</a>'\n",
              "          + ' to learn more about interactive tables.';\n",
              "        element.innerHTML = '';\n",
              "        dataTable['output_type'] = 'display_data';\n",
              "        await google.colab.output.renderOutput(dataTable, element);\n",
              "        const docLink = document.createElement('div');\n",
              "        docLink.innerHTML = docLinkHtml;\n",
              "        element.appendChild(docLink);\n",
              "      }\n",
              "    </script>\n",
              "  </div>\n",
              "\n",
              "\n",
              "    <div id=\"df-40a6ad32-befa-4d4c-8f3b-9b39c9c3b9c5\">\n",
              "      <button class=\"colab-df-quickchart\" onclick=\"quickchart('df-40a6ad32-befa-4d4c-8f3b-9b39c9c3b9c5')\"\n",
              "                title=\"Suggest charts\"\n",
              "                style=\"display:none;\">\n",
              "\n",
              "<svg xmlns=\"http://www.w3.org/2000/svg\" height=\"24px\"viewBox=\"0 0 24 24\"\n",
              "     width=\"24px\">\n",
              "    <g>\n",
              "        <path d=\"M19 3H5c-1.1 0-2 .9-2 2v14c0 1.1.9 2 2 2h14c1.1 0 2-.9 2-2V5c0-1.1-.9-2-2-2zM9 17H7v-7h2v7zm4 0h-2V7h2v10zm4 0h-2v-4h2v4z\"/>\n",
              "    </g>\n",
              "</svg>\n",
              "      </button>\n",
              "\n",
              "<style>\n",
              "  .colab-df-quickchart {\n",
              "      --bg-color: #E8F0FE;\n",
              "      --fill-color: #1967D2;\n",
              "      --hover-bg-color: #E2EBFA;\n",
              "      --hover-fill-color: #174EA6;\n",
              "      --disabled-fill-color: #AAA;\n",
              "      --disabled-bg-color: #DDD;\n",
              "  }\n",
              "\n",
              "  [theme=dark] .colab-df-quickchart {\n",
              "      --bg-color: #3B4455;\n",
              "      --fill-color: #D2E3FC;\n",
              "      --hover-bg-color: #434B5C;\n",
              "      --hover-fill-color: #FFFFFF;\n",
              "      --disabled-bg-color: #3B4455;\n",
              "      --disabled-fill-color: #666;\n",
              "  }\n",
              "\n",
              "  .colab-df-quickchart {\n",
              "    background-color: var(--bg-color);\n",
              "    border: none;\n",
              "    border-radius: 50%;\n",
              "    cursor: pointer;\n",
              "    display: none;\n",
              "    fill: var(--fill-color);\n",
              "    height: 32px;\n",
              "    padding: 0;\n",
              "    width: 32px;\n",
              "  }\n",
              "\n",
              "  .colab-df-quickchart:hover {\n",
              "    background-color: var(--hover-bg-color);\n",
              "    box-shadow: 0 1px 2px rgba(60, 64, 67, 0.3), 0 1px 3px 1px rgba(60, 64, 67, 0.15);\n",
              "    fill: var(--button-hover-fill-color);\n",
              "  }\n",
              "\n",
              "  .colab-df-quickchart-complete:disabled,\n",
              "  .colab-df-quickchart-complete:disabled:hover {\n",
              "    background-color: var(--disabled-bg-color);\n",
              "    fill: var(--disabled-fill-color);\n",
              "    box-shadow: none;\n",
              "  }\n",
              "\n",
              "  .colab-df-spinner {\n",
              "    border: 2px solid var(--fill-color);\n",
              "    border-color: transparent;\n",
              "    border-bottom-color: var(--fill-color);\n",
              "    animation:\n",
              "      spin 1s steps(1) infinite;\n",
              "  }\n",
              "\n",
              "  @keyframes spin {\n",
              "    0% {\n",
              "      border-color: transparent;\n",
              "      border-bottom-color: var(--fill-color);\n",
              "      border-left-color: var(--fill-color);\n",
              "    }\n",
              "    20% {\n",
              "      border-color: transparent;\n",
              "      border-left-color: var(--fill-color);\n",
              "      border-top-color: var(--fill-color);\n",
              "    }\n",
              "    30% {\n",
              "      border-color: transparent;\n",
              "      border-left-color: var(--fill-color);\n",
              "      border-top-color: var(--fill-color);\n",
              "      border-right-color: var(--fill-color);\n",
              "    }\n",
              "    40% {\n",
              "      border-color: transparent;\n",
              "      border-right-color: var(--fill-color);\n",
              "      border-top-color: var(--fill-color);\n",
              "    }\n",
              "    60% {\n",
              "      border-color: transparent;\n",
              "      border-right-color: var(--fill-color);\n",
              "    }\n",
              "    80% {\n",
              "      border-color: transparent;\n",
              "      border-right-color: var(--fill-color);\n",
              "      border-bottom-color: var(--fill-color);\n",
              "    }\n",
              "    90% {\n",
              "      border-color: transparent;\n",
              "      border-bottom-color: var(--fill-color);\n",
              "    }\n",
              "  }\n",
              "</style>\n",
              "\n",
              "      <script>\n",
              "        async function quickchart(key) {\n",
              "          const quickchartButtonEl =\n",
              "            document.querySelector('#' + key + ' button');\n",
              "          quickchartButtonEl.disabled = true;  // To prevent multiple clicks.\n",
              "          quickchartButtonEl.classList.add('colab-df-spinner');\n",
              "          try {\n",
              "            const charts = await google.colab.kernel.invokeFunction(\n",
              "                'suggestCharts', [key], {});\n",
              "          } catch (error) {\n",
              "            console.error('Error during call to suggestCharts:', error);\n",
              "          }\n",
              "          quickchartButtonEl.classList.remove('colab-df-spinner');\n",
              "          quickchartButtonEl.classList.add('colab-df-quickchart-complete');\n",
              "        }\n",
              "        (() => {\n",
              "          let quickchartButtonEl =\n",
              "            document.querySelector('#df-40a6ad32-befa-4d4c-8f3b-9b39c9c3b9c5 button');\n",
              "          quickchartButtonEl.style.display =\n",
              "            google.colab.kernel.accessAllowed ? 'block' : 'none';\n",
              "        })();\n",
              "      </script>\n",
              "    </div>\n",
              "\n",
              "  <div id=\"id_2242bf4a-f267-4377-9af5-fc8a003c0e1e\">\n",
              "    <style>\n",
              "      .colab-df-generate {\n",
              "        background-color: #E8F0FE;\n",
              "        border: none;\n",
              "        border-radius: 50%;\n",
              "        cursor: pointer;\n",
              "        display: none;\n",
              "        fill: #1967D2;\n",
              "        height: 32px;\n",
              "        padding: 0 0 0 0;\n",
              "        width: 32px;\n",
              "      }\n",
              "\n",
              "      .colab-df-generate:hover {\n",
              "        background-color: #E2EBFA;\n",
              "        box-shadow: 0px 1px 2px rgba(60, 64, 67, 0.3), 0px 1px 3px 1px rgba(60, 64, 67, 0.15);\n",
              "        fill: #174EA6;\n",
              "      }\n",
              "\n",
              "      [theme=dark] .colab-df-generate {\n",
              "        background-color: #3B4455;\n",
              "        fill: #D2E3FC;\n",
              "      }\n",
              "\n",
              "      [theme=dark] .colab-df-generate:hover {\n",
              "        background-color: #434B5C;\n",
              "        box-shadow: 0px 1px 3px 1px rgba(0, 0, 0, 0.15);\n",
              "        filter: drop-shadow(0px 1px 2px rgba(0, 0, 0, 0.3));\n",
              "        fill: #FFFFFF;\n",
              "      }\n",
              "    </style>\n",
              "    <button class=\"colab-df-generate\" onclick=\"generateWithVariable('data_results')\"\n",
              "            title=\"Generate code using this dataframe.\"\n",
              "            style=\"display:none;\">\n",
              "\n",
              "  <svg xmlns=\"http://www.w3.org/2000/svg\" height=\"24px\"viewBox=\"0 0 24 24\"\n",
              "       width=\"24px\">\n",
              "    <path d=\"M7,19H8.4L18.45,9,17,7.55,7,17.6ZM5,21V16.75L18.45,3.32a2,2,0,0,1,2.83,0l1.4,1.43a1.91,1.91,0,0,1,.58,1.4,1.91,1.91,0,0,1-.58,1.4L9.25,21ZM18.45,9,17,7.55Zm-12,3A5.31,5.31,0,0,0,4.9,8.1,5.31,5.31,0,0,0,1,6.5,5.31,5.31,0,0,0,4.9,4.9,5.31,5.31,0,0,0,6.5,1,5.31,5.31,0,0,0,8.1,4.9,5.31,5.31,0,0,0,12,6.5,5.46,5.46,0,0,0,6.5,12Z\"/>\n",
              "  </svg>\n",
              "    </button>\n",
              "    <script>\n",
              "      (() => {\n",
              "      const buttonEl =\n",
              "        document.querySelector('#id_2242bf4a-f267-4377-9af5-fc8a003c0e1e button.colab-df-generate');\n",
              "      buttonEl.style.display =\n",
              "        google.colab.kernel.accessAllowed ? 'block' : 'none';\n",
              "\n",
              "      buttonEl.onclick = () => {\n",
              "        google.colab.notebook.generateWithVariable('data_results');\n",
              "      }\n",
              "      })();\n",
              "    </script>\n",
              "  </div>\n",
              "\n",
              "    </div>\n",
              "  </div>\n"
            ],
            "application/vnd.google.colaboratory.intrinsic+json": {
              "type": "dataframe",
              "variable_name": "data_results",
              "summary": "{\n  \"name\": \"data_results\",\n  \"rows\": 300,\n  \"fields\": [\n    {\n      \"column\": 0,\n      \"properties\": {\n        \"dtype\": \"number\",\n        \"std\": 1.0158746367595834,\n        \"min\": -3.1567881980549766,\n        \"max\": 3.9780126830618956,\n        \"num_unique_values\": 300,\n        \"samples\": [\n          -0.5536101678599145,\n          -0.09814915461752267,\n          -0.776633775863819\n        ],\n        \"semantic_type\": \"\",\n        \"description\": \"\"\n      }\n    },\n    {\n      \"column\": 1,\n      \"properties\": {\n        \"dtype\": \"number\",\n        \"std\": 1.006963325352721,\n        \"min\": -2.6043943138048746,\n        \"max\": 3.3578176176129664,\n        \"num_unique_values\": 300,\n        \"samples\": [\n          1.5785540730477023,\n          0.33959998194434793,\n          -1.1115200359615813\n        ],\n        \"semantic_type\": \"\",\n        \"description\": \"\"\n      }\n    },\n    {\n      \"column\": 2,\n      \"properties\": {\n        \"dtype\": \"number\",\n        \"std\": 1.0158339238044154,\n        \"min\": -3.5397930801695794,\n        \"max\": 2.535429234474311,\n        \"num_unique_values\": 300,\n        \"samples\": [\n          -0.11920719678604384,\n          -0.26098519383889696,\n          0.10167913400275941\n        ],\n        \"semantic_type\": \"\",\n        \"description\": \"\"\n      }\n    },\n    {\n      \"column\": 3,\n      \"properties\": {\n        \"dtype\": \"number\",\n        \"std\": 1.0137684999198973,\n        \"min\": -2.7682122569243974,\n        \"max\": 2.840419324442535,\n        \"num_unique_values\": 300,\n        \"samples\": [\n          -0.7684000021920728,\n          0.20008563135924812,\n          -0.5387368864260762\n        ],\n        \"semantic_type\": \"\",\n        \"description\": \"\"\n      }\n    },\n    {\n      \"column\": 4,\n      \"properties\": {\n        \"dtype\": \"number\",\n        \"std\": 1.0614681410032598,\n        \"min\": -3.137511806468755,\n        \"max\": 3.490339438957845,\n        \"num_unique_values\": 300,\n        \"samples\": [\n          -0.8608512241735753,\n          -0.9360613818739997,\n          0.4689888897749068\n        ],\n        \"semantic_type\": \"\",\n        \"description\": \"\"\n      }\n    },\n    {\n      \"column\": 5,\n      \"properties\": {\n        \"dtype\": \"number\",\n        \"std\": 1.0065680490265139,\n        \"min\": -2.888123717773416,\n        \"max\": 2.936709002388259,\n        \"num_unique_values\": 300,\n        \"samples\": [\n          -1.716885230689827,\n          0.3795371148562843,\n          0.2805126828606188\n        ],\n        \"semantic_type\": \"\",\n        \"description\": \"\"\n      }\n    },\n    {\n      \"column\": 6,\n      \"properties\": {\n        \"dtype\": \"number\",\n        \"std\": 0.9980353517246724,\n        \"min\": -3.2077716274484,\n        \"max\": 2.6305323632577404,\n        \"num_unique_values\": 300,\n        \"samples\": [\n          0.25508891060832,\n          -1.1578032172089858,\n          -0.5443814452001083\n        ],\n        \"semantic_type\": \"\",\n        \"description\": \"\"\n      }\n    },\n    {\n      \"column\": 7,\n      \"properties\": {\n        \"dtype\": \"number\",\n        \"std\": 0.974835712653011,\n        \"min\": -2.7782987563069135,\n        \"max\": 3.0343112499250653,\n        \"num_unique_values\": 300,\n        \"samples\": [\n          -0.011911172238151446,\n          0.26265529317273956,\n          0.795286770835264\n        ],\n        \"semantic_type\": \"\",\n        \"description\": \"\"\n      }\n    },\n    {\n      \"column\": 8,\n      \"properties\": {\n        \"dtype\": \"number\",\n        \"std\": 0.9924482895091458,\n        \"min\": -2.98666482491312,\n        \"max\": 2.664276857585883,\n        \"num_unique_values\": 300,\n        \"samples\": [\n          0.7890762391703269,\n          -0.21226392238655217,\n          0.02101364852517768\n        ],\n        \"semantic_type\": \"\",\n        \"description\": \"\"\n      }\n    },\n    {\n      \"column\": 9,\n      \"properties\": {\n        \"dtype\": \"number\",\n        \"std\": 0.9828972353614055,\n        \"min\": -2.4758001604409503,\n        \"max\": 2.6490230655557765,\n        \"num_unique_values\": 300,\n        \"samples\": [\n          -0.6277733035890217,\n          1.810409567133321,\n          0.1284189212319611\n        ],\n        \"semantic_type\": \"\",\n        \"description\": \"\"\n      }\n    },\n    {\n      \"column\": \"predict_wrapper_output_1\",\n      \"properties\": {\n        \"dtype\": \"number\",\n        \"std\": 82.3650361972612,\n        \"min\": -256.0925881979693,\n        \"max\": 201.55258502365103,\n        \"num_unique_values\": 300,\n        \"samples\": [\n          34.162133764394014,\n          29.101924545673974,\n          -61.870831579821356\n        ],\n        \"semantic_type\": \"\",\n        \"description\": \"\"\n      }\n    },\n    {\n      \"column\": \"predict_wrapper_output_2\",\n      \"properties\": {\n        \"dtype\": \"number\",\n        \"std\": 138.63343645442953,\n        \"min\": -405.32812161613913,\n        \"max\": 447.66063196807033,\n        \"num_unique_values\": 300,\n        \"samples\": [\n          -10.36742601521355,\n          -63.763335056365996,\n          -89.62275060857228\n        ],\n        \"semantic_type\": \"\",\n        \"description\": \"\"\n      }\n    },\n    {\n      \"column\": \"predict_model_b\",\n      \"properties\": {\n        \"dtype\": \"number\",\n        \"std\": 82.3650361972612,\n        \"min\": -256.0925881979693,\n        \"max\": 201.55258502365103,\n        \"num_unique_values\": 300,\n        \"samples\": [\n          34.162133764394014,\n          29.101924545673974,\n          -61.870831579821356\n        ],\n        \"semantic_type\": \"\",\n        \"description\": \"\"\n      }\n    },\n    {\n      \"column\": \"predict_model_c\",\n      \"properties\": {\n        \"dtype\": \"number\",\n        \"std\": 138.63343645442953,\n        \"min\": -405.32812161613913,\n        \"max\": 447.66063196807033,\n        \"num_unique_values\": 300,\n        \"samples\": [\n          -10.36742601521355,\n          -63.763335056365996,\n          -89.62275060857228\n        ],\n        \"semantic_type\": \"\",\n        \"description\": \"\"\n      }\n    }\n  ]\n}"
            }
          },
          "metadata": {},
          "execution_count": 31
        }
      ]
    },
    {
      "cell_type": "markdown",
      "source": [
        "It is evidenced that model B has the same outputs as the first output of the wrapper model."
      ],
      "metadata": {
        "id": "hlBTTnGyfssy"
      }
    },
    {
      "cell_type": "code",
      "source": [
        "(data_results['predict_wrapper_output_1']==data_results['predict_model_b']).all()"
      ],
      "metadata": {
        "colab": {
          "base_uri": "https://localhost:8080/"
        },
        "id": "0MD7cmDne0oB",
        "outputId": "56ad5175-59bf-41f9-baae-3e85cc8db73f"
      },
      "execution_count": 35,
      "outputs": [
        {
          "output_type": "execute_result",
          "data": {
            "text/plain": [
              "np.False_"
            ]
          },
          "metadata": {},
          "execution_count": 35
        }
      ]
    },
    {
      "cell_type": "markdown",
      "source": [
        "It is evidenced that model B has the same outputs as the second output of the wrapper model."
      ],
      "metadata": {
        "id": "oXjUBYKOftux"
      }
    },
    {
      "cell_type": "code",
      "source": [
        "(data_results['predict_wrapper_output_2']==data_results['predict_model_c']).all()"
      ],
      "metadata": {
        "colab": {
          "base_uri": "https://localhost:8080/"
        },
        "id": "PObq9lztfO6h",
        "outputId": "d3d4e8a2-ef00-446b-99f2-7c3f26fced2a"
      },
      "execution_count": 36,
      "outputs": [
        {
          "output_type": "execute_result",
          "data": {
            "text/plain": [
              "np.True_"
            ]
          },
          "metadata": {},
          "execution_count": 36
        }
      ]
    },
    {
      "cell_type": "markdown",
      "source": [
        "# **Info**\n",
        "---"
      ],
      "metadata": {
        "id": "DhlRi0Kic3tU"
      }
    },
    {
      "cell_type": "markdown",
      "source": [
        "**@By:** Kaiziferr\n",
        "\n",
        "**@Git:** https://github.com/Kaiziferr"
      ],
      "metadata": {
        "id": "zpsYXrhwuacW"
      }
    }
  ]
}