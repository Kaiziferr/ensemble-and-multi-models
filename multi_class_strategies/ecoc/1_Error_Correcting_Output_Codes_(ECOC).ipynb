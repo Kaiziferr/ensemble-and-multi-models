{
  "cells": [
    {
      "cell_type": "code",
      "execution_count": 35,
      "metadata": {
        "id": "dXcLI00mjQjF"
      },
      "outputs": [],
      "source": [
        "import warnings\n",
        "\n",
        "import pandas as pd\n",
        "from numpy import (mean, std)\n",
        "from sklearn.datasets import make_classification\n",
        "from sklearn.model_selection import (\n",
        "    train_test_split, cross_val_score, GridSearchCV)\n",
        "from sklearn.linear_model import LogisticRegression\n",
        "from sklearn.svm import SVC\n",
        "from sklearn.multiclass import OutputCodeClassifier\n",
        "from sklearn.metrics import accuracy_score"
      ]
    },
    {
      "cell_type": "markdown",
      "metadata": {
        "id": "oYhwT57I6GWB"
      },
      "source": [
        "The goal of this exercise is to implement theError-Correcting Output Codes (ECOC) strategy for a classification problem.\n",
        "\n"
      ]
    },
    {
      "cell_type": "markdown",
      "metadata": {
        "id": "0_zh3V27jbzv"
      },
      "source": [
        "# **Info**\n",
        "---"
      ]
    },
    {
      "cell_type": "markdown",
      "metadata": {
        "id": "WVG6EizPjeye"
      },
      "source": [
        "@By: Kaiziferr\n",
        "\n",
        "@Git: https://github.com/Kaiziferr"
      ]
    },
    {
      "cell_type": "markdown",
      "metadata": {
        "id": "eDE1y35HlN9m"
      },
      "source": [
        "# **Config**\n",
        "---\n"
      ]
    },
    {
      "cell_type": "code",
      "execution_count": 36,
      "metadata": {
        "id": "a8evEAcYlQ7H"
      },
      "outputs": [],
      "source": [
        "random_seed=12354"
      ]
    },
    {
      "cell_type": "markdown",
      "metadata": {
        "id": "6Z-d-vLklViO"
      },
      "source": [
        "# **Data**\n",
        "\n",
        "---\n",
        "\n"
      ]
    },
    {
      "cell_type": "markdown",
      "metadata": {
        "id": "J3z1Algm6qfB"
      },
      "source": [
        "A synthetic dataset of 1,000 samples was generated, with 8 features, of which 6 are informative and 2 are redundant, and 5 classes. The classification error rate is 5%."
      ]
    },
    {
      "cell_type": "code",
      "execution_count": 37,
      "metadata": {
        "id": "eyWojV2Jk28p"
      },
      "outputs": [],
      "source": [
        "X, y = make_classification(\n",
        "    n_samples=1000,\n",
        "    n_features=8,\n",
        "    n_informative=6,\n",
        "    n_redundant=2,\n",
        "    n_classes=5,\n",
        "    flip_y=0.05,\n",
        "    random_state=random_seed\n",
        ")"
      ]
    },
    {
      "cell_type": "markdown",
      "metadata": {
        "id": "V29NYUNx6yjg"
      },
      "source": [
        "A context is used where the categories represent letters, in order to give meaning to the data."
      ]
    },
    {
      "cell_type": "markdown",
      "metadata": {
        "id": "BCAJUG2J66XR"
      },
      "source": [
        "It is evident that the dataset is balanced; the small discrepancy is due to the data split.\n",
        "\n"
      ]
    },
    {
      "cell_type": "code",
      "execution_count": 38,
      "metadata": {
        "colab": {
          "base_uri": "https://localhost:8080/",
          "height": 241
        },
        "id": "Dihvbg1CmEj3",
        "outputId": "d2b73e0d-c998-44e7-9025-e5f7e3a8efad"
      },
      "outputs": [
        {
          "data": {
            "text/html": [
              "<div>\n",
              "<style scoped>\n",
              "    .dataframe tbody tr th:only-of-type {\n",
              "        vertical-align: middle;\n",
              "    }\n",
              "\n",
              "    .dataframe tbody tr th {\n",
              "        vertical-align: top;\n",
              "    }\n",
              "\n",
              "    .dataframe thead th {\n",
              "        text-align: right;\n",
              "    }\n",
              "</style>\n",
              "<table border=\"1\" class=\"dataframe\">\n",
              "  <thead>\n",
              "    <tr style=\"text-align: right;\">\n",
              "      <th></th>\n",
              "      <th>count</th>\n",
              "    </tr>\n",
              "  </thead>\n",
              "  <tbody>\n",
              "    <tr>\n",
              "      <th>D</th>\n",
              "      <td>208</td>\n",
              "    </tr>\n",
              "    <tr>\n",
              "      <th>B</th>\n",
              "      <td>201</td>\n",
              "    </tr>\n",
              "    <tr>\n",
              "      <th>E</th>\n",
              "      <td>199</td>\n",
              "    </tr>\n",
              "    <tr>\n",
              "      <th>A</th>\n",
              "      <td>196</td>\n",
              "    </tr>\n",
              "    <tr>\n",
              "      <th>C</th>\n",
              "      <td>196</td>\n",
              "    </tr>\n",
              "  </tbody>\n",
              "</table>\n",
              "</div><br><label><b>dtype:</b> int64</label>"
            ],
            "text/plain": [
              "D    208\n",
              "B    201\n",
              "E    199\n",
              "A    196\n",
              "C    196\n",
              "Name: count, dtype: int64"
            ]
          },
          "execution_count": 38,
          "metadata": {},
          "output_type": "execute_result"
        }
      ],
      "source": [
        "y = pd.Series(y).replace({0:'A',1:'B',2:'C',3:'D', 4:'E'})\n",
        "y.value_counts()"
      ]
    },
    {
      "cell_type": "markdown",
      "metadata": {
        "id": "L4sOAcozmP8x"
      },
      "source": [
        "# **Data Split**\n",
        "---"
      ]
    },
    {
      "cell_type": "code",
      "execution_count": 39,
      "metadata": {
        "id": "dOpORTWqmlsY"
      },
      "outputs": [],
      "source": [
        "X_train, X_test, y_train, y_test = train_test_split(\n",
        "    X,\n",
        "    y,\n",
        "    test_size=0.35,\n",
        "    stratify=y,\n",
        "    random_state=random_seed\n",
        ")"
      ]
    },
    {
      "cell_type": "markdown",
      "metadata": {
        "id": "V8ZfJfssnIif"
      },
      "source": [
        "# **Model**\n",
        "---\n",
        "\n"
      ]
    },
    {
      "cell_type": "markdown",
      "metadata": {
        "id": "K_WgCUxg7b9J"
      },
      "source": [
        "Two logistic regression models and two SVC models are defined, with the same parameters."
      ]
    },
    {
      "cell_type": "code",
      "execution_count": 40,
      "metadata": {
        "id": "k8tMNP_tslxn"
      },
      "outputs": [],
      "source": [
        "model_log = LogisticRegression(random_state=random_seed)\n",
        "\n",
        "model_logB = LogisticRegression(**model_log.get_params())\n",
        "\n",
        "model_svc = SVC(random_state=random_seed)\n",
        "\n",
        "model_svcB = SVC(**model_svc.get_params())"
      ]
    },
    {
      "cell_type": "markdown",
      "metadata": {
        "id": "WVKD_y5Z-A_y"
      },
      "source": [
        "**LogisticRegression**"
      ]
    },
    {
      "cell_type": "markdown",
      "metadata": {
        "id": "YKBIBr1_73Ap"
      },
      "source": [
        "A logistic regression model is fitted, without going into much detail about the parameters, with the aim of observing how the model performs without applying ECOC."
      ]
    },
    {
      "cell_type": "code",
      "execution_count": 41,
      "metadata": {
        "id": "KFhk3dqprMIQ"
      },
      "outputs": [],
      "source": [
        "model_logB.fit(X_train, y_train)\n",
        "y_predict = model_logB.predict(X_test)"
      ]
    },
    {
      "cell_type": "markdown",
      "metadata": {
        "id": "T1-vjs2I8p2s"
      },
      "source": [
        "The model has an accuracy performance of 51%. It is not very good at distinguishing between classes, and one could even hastily conclude that its performance is only slightly better than that of a model making random predictions."
      ]
    },
    {
      "cell_type": "code",
      "execution_count": 42,
      "metadata": {
        "colab": {
          "base_uri": "https://localhost:8080/"
        },
        "id": "gwOLmuiU78Q6",
        "outputId": "a377a52e-9e37-4b82-963f-72a7c8a7cdb2"
      },
      "outputs": [
        {
          "data": {
            "text/plain": [
              "0.5085714285714286"
            ]
          },
          "execution_count": 42,
          "metadata": {},
          "output_type": "execute_result"
        }
      ],
      "source": [
        "accuracy_score(y_test, y_predict)"
      ]
    },
    {
      "cell_type": "markdown",
      "metadata": {
        "id": "WIJGBc7P8q76"
      },
      "source": [
        "Cross-validation was used with the entire dataset to evaluate the model’s performance across different data splits. As evidenced, regardless of the partition used, the model consistently demonstrated poor performance, with only minor deviations. This indicates that the model did not perform significantly better or worse than previously observed"
      ]
    },
    {
      "cell_type": "code",
      "execution_count": 43,
      "metadata": {
        "colab": {
          "base_uri": "https://localhost:8080/"
        },
        "id": "CJzUD5Yy76dp",
        "outputId": "7eb67abb-573f-47ec-935b-f0c99321b8c6"
      },
      "outputs": [
        {
          "name": "stdout",
          "output_type": "stream",
          "text": [
            "Mean: 0.513 Std: (0.032) scores: [0.54  0.475 0.56  0.505 0.485]\n"
          ]
        }
      ],
      "source": [
        "score = cross_val_score(model_logB, X, y, scoring='accuracy', cv=5, n_jobs=-1)\n",
        "print('Mean: %.3f Std: (%.3f)' % (mean(score), std(score)), \"scores:\" ,score)"
      ]
    },
    {
      "cell_type": "markdown",
      "metadata": {
        "id": "jhi45V2e-f4a"
      },
      "source": [
        "**Logistic Regression with Error-Correcting Output Codes (ECOC)**"
      ]
    },
    {
      "cell_type": "markdown",
      "metadata": {
        "id": "kypFgVXr-eYy"
      },
      "source": [
        "ECOC is applied using 5 logistic regression models."
      ]
    },
    {
      "cell_type": "code",
      "execution_count": 44,
      "metadata": {
        "id": "KX6dDd6l8FUq"
      },
      "outputs": [],
      "source": [
        "ecoc_log = OutputCodeClassifier(model_log, code_size=1, random_state=random_seed)\n",
        "ecoc_log.fit(X_train, y_train)\n",
        "y_predict = ecoc_log.predict(X_test)"
      ]
    },
    {
      "cell_type": "markdown",
      "metadata": {
        "id": "CZHQXUHK-9Ez"
      },
      "source": [
        "The model performs worse than the implementation without ECOC."
      ]
    },
    {
      "cell_type": "code",
      "execution_count": 45,
      "metadata": {
        "colab": {
          "base_uri": "https://localhost:8080/"
        },
        "id": "dNbJhQD--w0K",
        "outputId": "1b75fb60-5d71-4138-9235-981652652ea6"
      },
      "outputs": [
        {
          "data": {
            "text/plain": [
              "0.3742857142857143"
            ]
          },
          "execution_count": 45,
          "metadata": {},
          "output_type": "execute_result"
        }
      ],
      "source": [
        "accuracy_score(y_test, y_predict)"
      ]
    },
    {
      "cell_type": "markdown",
      "metadata": {
        "id": "JFIAIH8G_OxM"
      },
      "source": [
        "Cross-validation was used with the entire dataset to evaluate the model’s performance across different data splits. As evidenced, regardless of the partition used, the model consistently demonstrated poor performance, with only minor deviations. This indicates that the model did not perform significantly better or worse than previously observed"
      ]
    },
    {
      "cell_type": "code",
      "execution_count": 46,
      "metadata": {
        "colab": {
          "base_uri": "https://localhost:8080/"
        },
        "id": "4YdtnGBt-01S",
        "outputId": "6869fc3e-b274-4dec-c2b3-f4c09b138d32"
      },
      "outputs": [
        {
          "name": "stdout",
          "output_type": "stream",
          "text": [
            "Mean: 0.376 Std: (0.026) scores: [0.37  0.385 0.385 0.41  0.33 ]\n"
          ]
        }
      ],
      "source": [
        "score = cross_val_score(ecoc_log, X, y, scoring='accuracy', cv=5, n_jobs=-1)\n",
        "print('Mean: %.3f Std: (%.3f)' % (mean(score), std(score)), \"scores:\" ,score)"
      ]
    },
    {
      "cell_type": "markdown",
      "metadata": {
        "id": "E-YS7iuZ_dpl"
      },
      "source": [
        "**Logistic Regression with Error-Correcting Output Codes (ECOC) using GridSearchCV**"
      ]
    },
    {
      "cell_type": "code",
      "execution_count": 47,
      "metadata": {
        "id": "RnOUhj5l_QUJ"
      },
      "outputs": [],
      "source": [
        "paramgrid = {\n",
        "    \"code_size\": list(range(1,21))\n",
        "}\n",
        "ecoc_log = OutputCodeClassifier(\n",
        "    estimator=model_log,\n",
        "    )\n",
        "grid_ecoc = GridSearchCV(\n",
        "    ecoc_log,\n",
        "    paramgrid,\n",
        "    scoring='accuracy',\n",
        "    refit=True,\n",
        "    cv=5,\n",
        "    return_train_score=True)\n",
        "\n",
        "mf = grid_ecoc.fit(X_train, y_train)"
      ]
    },
    {
      "cell_type": "code",
      "execution_count": 48,
      "metadata": {
        "colab": {
          "base_uri": "https://localhost:8080/"
        },
        "id": "VLxfwitEBWi0",
        "outputId": "12a56df3-5170-4071-afa3-73fc91f28540"
      },
      "outputs": [
        {
          "data": {
            "text/plain": [
              "{'code_size': 12}"
            ]
          },
          "execution_count": 48,
          "metadata": {},
          "output_type": "execute_result"
        }
      ],
      "source": [
        "mf.best_params_"
      ]
    },
    {
      "cell_type": "markdown",
      "metadata": {
        "id": "UnTEpMVIBtnL"
      },
      "source": [
        "The model does not improve when using the ECOC technique by increasing the number of models to 60; instead, the performance worsens"
      ]
    },
    {
      "cell_type": "code",
      "execution_count": 51,
      "metadata": {
        "colab": {
          "base_uri": "https://localhost:8080/"
        },
        "id": "hpTygmeT_QRJ",
        "outputId": "c5e03d25-3ec1-48b8-e92b-6e4625cd5f88"
      },
      "outputs": [
        {
          "data": {
            "text/plain": [
              "0.4342857142857143"
            ]
          },
          "execution_count": 51,
          "metadata": {},
          "output_type": "execute_result"
        }
      ],
      "source": [
        "best_model = mf.best_estimator_\n",
        "y_pred = best_model.predict(X_test)\n",
        "accuracy_score(y_test, y_pred)"
      ]
    },
    {
      "cell_type": "code",
      "execution_count": 52,
      "metadata": {
        "colab": {
          "base_uri": "https://localhost:8080/"
        },
        "id": "stZ8WLct_QN8",
        "outputId": "be355c6b-1957-4c1c-f911-7e4baca2b7b7"
      },
      "outputs": [
        {
          "name": "stdout",
          "output_type": "stream",
          "text": [
            "Mean: 0.486 Std: (0.029) scores: [0.53  0.445 0.505 0.475 0.475]\n"
          ]
        }
      ],
      "source": [
        "score = cross_val_score(best_model, X, y, scoring='accuracy', cv=5, n_jobs=-1)\n",
        "print('Mean: %.3f Std: (%.3f)' % (mean(score), std(score)), \"scores:\" ,score)"
      ]
    },
    {
      "cell_type": "markdown",
      "metadata": {
        "id": "SRwGhp1FCb77"
      },
      "source": [
        "**Support Vector Machine (SVC)**"
      ]
    },
    {
      "cell_type": "markdown",
      "metadata": {
        "id": "Ug15o28xHn97"
      },
      "source": [
        "A Support Vector Machine (SVC) model is fitted, without going into much detail about the parameters, with the aim of observing how the model performs without applying ECOC."
      ]
    },
    {
      "cell_type": "code",
      "execution_count": 53,
      "metadata": {
        "id": "GGJHo7-XsyjY"
      },
      "outputs": [],
      "source": [
        "model_svcB.fit(X_train, y_train)\n",
        "y_predict = model_svcB.predict(X_test)"
      ]
    },
    {
      "cell_type": "markdown",
      "metadata": {
        "id": "5id6234rI67t"
      },
      "source": [
        "The unoptimized model has an accuracy of 69%, which is an acceptable performance for a non-critical problem."
      ]
    },
    {
      "cell_type": "code",
      "execution_count": 54,
      "metadata": {
        "colab": {
          "base_uri": "https://localhost:8080/"
        },
        "id": "w3sriHkvtCmH",
        "outputId": "74d20758-8941-4dbb-f15d-c5d1492ca254"
      },
      "outputs": [
        {
          "data": {
            "text/plain": [
              "0.6857142857142857"
            ]
          },
          "execution_count": 54,
          "metadata": {},
          "output_type": "execute_result"
        }
      ],
      "source": [
        "accuracy_score(y_test, y_predict)"
      ]
    },
    {
      "cell_type": "markdown",
      "metadata": {
        "id": "_YjRSG2RJXUr"
      },
      "source": [
        "As observed in the iterations, the model tends to improve its performance, potentially reaching an average accuracy of 0.71. It’s important to highlight that all the data was used in this fold validation."
      ]
    },
    {
      "cell_type": "code",
      "execution_count": 55,
      "metadata": {
        "colab": {
          "base_uri": "https://localhost:8080/"
        },
        "id": "ECr_CoprG6pz",
        "outputId": "f5f0c562-c2fa-4d51-8463-4d1004be5f0e"
      },
      "outputs": [
        {
          "name": "stdout",
          "output_type": "stream",
          "text": [
            "Mean: 0.712 Std: (0.026) scores: [0.715 0.72  0.755 0.685 0.685]\n"
          ]
        }
      ],
      "source": [
        "score = cross_val_score(model_svcB, X, y, scoring='accuracy', cv=5, n_jobs=-1)\n",
        "print('Mean: %.3f Std: (%.3f)' % (mean(score), std(score)), \"scores:\" ,score)"
      ]
    },
    {
      "cell_type": "markdown",
      "metadata": {
        "id": "OKq4TsX8Jfu8"
      },
      "source": [
        "**Support Vector Machine (SVC) with Error-Correcting Output Codes (ECOC)**"
      ]
    },
    {
      "cell_type": "markdown",
      "metadata": {
        "id": "e7XlcAWjKZ7-"
      },
      "source": [
        "ECOC is applied using 5 logistic regression models."
      ]
    },
    {
      "cell_type": "code",
      "execution_count": 56,
      "metadata": {
        "id": "MY1f2We8G6iW"
      },
      "outputs": [],
      "source": [
        "ecoc_svc = OutputCodeClassifier(model_svc, code_size=1, random_state=random_seed)\n",
        "ecoc_svc.fit(X_train, y_train)\n",
        "y_predict = ecoc_svc.predict(X_test)"
      ]
    },
    {
      "cell_type": "markdown",
      "metadata": {
        "id": "1TzltZz-LEBg"
      },
      "source": [
        "The model performs worse than the implementation without ECOC."
      ]
    },
    {
      "cell_type": "code",
      "execution_count": 57,
      "metadata": {
        "colab": {
          "base_uri": "https://localhost:8080/"
        },
        "id": "zUQjyjLpKTq4",
        "outputId": "47402d09-913e-4e68-acbd-d9623f7f8787"
      },
      "outputs": [
        {
          "data": {
            "text/plain": [
              "0.4942857142857143"
            ]
          },
          "execution_count": 57,
          "metadata": {},
          "output_type": "execute_result"
        }
      ],
      "source": [
        "accuracy_score(y_test, y_predict)"
      ]
    },
    {
      "cell_type": "markdown",
      "metadata": {
        "id": "sUrzORvGLhnz"
      },
      "source": [
        "Since the average performance per iteration was around 51%, that's approximately 20 points lower in performance compared to the SVC model."
      ]
    },
    {
      "cell_type": "code",
      "execution_count": 58,
      "metadata": {
        "colab": {
          "base_uri": "https://localhost:8080/"
        },
        "id": "dyVngBPGLISj",
        "outputId": "29f06ee5-2bf4-403d-9a57-472d0a61b6e5"
      },
      "outputs": [
        {
          "name": "stdout",
          "output_type": "stream",
          "text": [
            "Mean: 0.507 Std: (0.014) scores: [0.48  0.505 0.52  0.515 0.515]\n"
          ]
        }
      ],
      "source": [
        "score = cross_val_score(ecoc_svc, X, y, scoring='accuracy', cv=5, n_jobs=-1)\n",
        "print('Mean: %.3f Std: (%.3f)' % (mean(score), std(score)), \"scores:\" ,score)"
      ]
    },
    {
      "cell_type": "markdown",
      "metadata": {
        "id": "PAUEHcxiL8mm"
      },
      "source": [
        "**Support Vector Machine (SVC) with Error-Correcting Output Codes (ECOC) using GridSearchCV**"
      ]
    },
    {
      "cell_type": "code",
      "execution_count": 59,
      "metadata": {
        "id": "iNR6W_XoZq9C"
      },
      "outputs": [],
      "source": [
        "paramgrid = {\n",
        "    \"code_size\": list(range(1,21))\n",
        "}\n",
        "ecoc_csv = OutputCodeClassifier(\n",
        "    estimator=model_svc,\n",
        "    )\n",
        "grid_ecoc = GridSearchCV(\n",
        "    ecoc_csv,\n",
        "    paramgrid,\n",
        "    scoring='accuracy',\n",
        "    refit=True,\n",
        "    cv=5,\n",
        "    return_train_score=True)\n",
        "\n",
        "mf = grid_ecoc.fit(X_train, y_train)"
      ]
    },
    {
      "cell_type": "code",
      "execution_count": 60,
      "metadata": {
        "colab": {
          "base_uri": "https://localhost:8080/"
        },
        "id": "nWb1gd5pMNNE",
        "outputId": "8b75d3fe-8129-4f69-c94a-9dc31c4d0fcc"
      },
      "outputs": [
        {
          "data": {
            "text/plain": [
              "{'code_size': 17}"
            ]
          },
          "execution_count": 60,
          "metadata": {},
          "output_type": "execute_result"
        }
      ],
      "source": [
        "mf.best_params_"
      ]
    },
    {
      "cell_type": "markdown",
      "metadata": {
        "id": "OnbpQQc_OzFc"
      },
      "source": [
        "The model doesn't show a significant improvement when using the ECOC technique by increasing the number of models to 85. Instead, the performance is equivalent to the unoptimized model."
      ]
    },
    {
      "cell_type": "code",
      "execution_count": 61,
      "metadata": {
        "id": "yjoutS3GMqPM"
      },
      "outputs": [],
      "source": [
        "best_model = mf.best_estimator_\n",
        "y_pred = best_model.predict(X_test)"
      ]
    },
    {
      "cell_type": "code",
      "execution_count": 62,
      "metadata": {
        "colab": {
          "base_uri": "https://localhost:8080/"
        },
        "id": "c3ZWtxcYN7cu",
        "outputId": "d0a5dfe1-afac-4df2-fe98-6ba38032ea61"
      },
      "outputs": [
        {
          "data": {
            "text/plain": [
              "0.6885714285714286"
            ]
          },
          "execution_count": 62,
          "metadata": {},
          "output_type": "execute_result"
        }
      ],
      "source": [
        "accuracy_score(y_test, y_pred)"
      ]
    },
    {
      "cell_type": "code",
      "execution_count": 63,
      "metadata": {
        "colab": {
          "base_uri": "https://localhost:8080/"
        },
        "id": "Bl7u5KiEMqD2",
        "outputId": "ca614880-1be7-49db-b8cd-fc3cde9a968f"
      },
      "outputs": [
        {
          "name": "stdout",
          "output_type": "stream",
          "text": [
            "Mean: 0.694 Std: (0.030) scores: [0.71  0.665 0.74  0.66  0.695]\n"
          ]
        }
      ],
      "source": [
        "score = cross_val_score(best_model, X, y, scoring='accuracy', cv=5, n_jobs=-1)\n",
        "print('Mean: %.3f Std: (%.3f)' % (mean(score), std(score)), \"scores:\" ,score)"
      ]
    },
    {
      "cell_type": "code",
      "execution_count": null,
      "metadata": {
        "id": "E98jL9uSzWq8"
      },
      "outputs": [],
      "source": []
    },
    {
      "cell_type": "markdown",
      "metadata": {
        "id": "H5_1wvkUO2QM"
      },
      "source": [
        "Although no improvement was observed between the unoptimized models and the ECOC technique, it is still worth considering ECOC for traditional (non-ensemble) models, as it can enhance their performance capabilities."
      ]
    },
    {
      "cell_type": "markdown",
      "metadata": {
        "id": "tiDGTqtszWMU"
      },
      "source": [
        "# **Info**\n",
        "---\n",
        "\n",
        "@By: Kaiziferr\n",
        "\n",
        "@Git: https://github.com/Kaiziferr"
      ]
    }
  ],
  "metadata": {
    "colab": {
      "provenance": []
    },
    "kernelspec": {
      "display_name": "Python 3",
      "name": "python3"
    },
    "language_info": {
      "name": "python"
    }
  },
  "nbformat": 4,
  "nbformat_minor": 0
}
